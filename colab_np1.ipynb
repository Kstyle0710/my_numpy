{
  "nbformat": 4,
  "nbformat_minor": 0,
  "metadata": {
    "colab": {
      "name": "colab_np1.ipynb",
      "provenance": [],
      "collapsed_sections": [],
      "authorship_tag": "ABX9TyMroDkngDZ+toLHh4Qq+NxW",
      "include_colab_link": true
    },
    "kernelspec": {
      "name": "python3",
      "display_name": "Python 3"
    }
  },
  "cells": [
    {
      "cell_type": "markdown",
      "metadata": {
        "id": "view-in-github",
        "colab_type": "text"
      },
      "source": [
        "<a href=\"https://colab.research.google.com/github/Kstyle0710/my_numpy/blob/master/colab_np1.ipynb\" target=\"_parent\"><img src=\"https://colab.research.google.com/assets/colab-badge.svg\" alt=\"Open In Colab\"/></a>"
      ]
    },
    {
      "cell_type": "code",
      "metadata": {
        "id": "I6eF-x18Uwlp"
      },
      "source": [
        "import numpy as np"
      ],
      "execution_count": 1,
      "outputs": []
    },
    {
      "cell_type": "markdown",
      "metadata": {
        "id": "OgsbcbkNWj7D"
      },
      "source": [
        "# 1. np array 생성"
      ]
    },
    {
      "cell_type": "code",
      "metadata": {
        "colab": {
          "base_uri": "https://localhost:8080/"
        },
        "id": "rzDa_u1tWuoj",
        "outputId": "0d2387f8-981a-4e54-e8dc-13cf6554ce1c"
      },
      "source": [
        "## 1차원 배열\n",
        "a1 = np.array([1, 2, 3, 4, 5])\n",
        "print(a1)\n",
        "print(type(a1))\n",
        "print(a1.shape)\n",
        "print(a1[0])"
      ],
      "execution_count": 18,
      "outputs": [
        {
          "output_type": "stream",
          "text": [
            "[1 2 3 4 5]\n",
            "<class 'numpy.ndarray'>\n",
            "(5,)\n",
            "1\n"
          ],
          "name": "stdout"
        }
      ]
    },
    {
      "cell_type": "code",
      "metadata": {
        "colab": {
          "base_uri": "https://localhost:8080/"
        },
        "id": "RmUB7uAqXA2t",
        "outputId": "399a3dd8-b7a8-4fc6-9952-949602716ecf"
      },
      "source": [
        "## 2차원 배열\n",
        "a2 = np.array([[1, 2, 3], [4, 5, 6]])\n",
        "print(a2)\n",
        "print(type(a2))\n",
        "print(a2.shape)\n",
        "print(a2[0][1])"
      ],
      "execution_count": 17,
      "outputs": [
        {
          "output_type": "stream",
          "text": [
            "[[1 2 3]\n",
            " [4 5 6]]\n",
            "<class 'numpy.ndarray'>\n",
            "(2, 3)\n",
            "2\n"
          ],
          "name": "stdout"
        }
      ]
    },
    {
      "cell_type": "code",
      "metadata": {
        "colab": {
          "base_uri": "https://localhost:8080/"
        },
        "id": "HxFnaMOVXJoN",
        "outputId": "36ec5e27-fedc-4f4d-f6f1-e580555cdeea"
      },
      "source": [
        "## 3차원 배열\n",
        "a3 = np.array([[[1, 2, 3], [4, 5, 6]], [[1, 2, 3], [4, 5, 6]], [[1, 2, 3], [4, 5, 6]]])\n",
        "print(a3)\n",
        "print(type(a3))\n",
        "print(a3.shape)\n",
        "print(a3[0][1])"
      ],
      "execution_count": 16,
      "outputs": [
        {
          "output_type": "stream",
          "text": [
            "[[[1 2 3]\n",
            "  [4 5 6]]\n",
            "\n",
            " [[1 2 3]\n",
            "  [4 5 6]]\n",
            "\n",
            " [[1 2 3]\n",
            "  [4 5 6]]]\n",
            "<class 'numpy.ndarray'>\n",
            "(3, 2, 3)\n",
            "[4 5 6]\n"
          ],
          "name": "stdout"
        }
      ]
    },
    {
      "cell_type": "markdown",
      "metadata": {
        "id": "5QkCGrTpVNFl"
      },
      "source": [
        "# 2. 배열 생성 및 초기화"
      ]
    },
    {
      "cell_type": "code",
      "metadata": {
        "colab": {
          "base_uri": "https://localhost:8080/"
        },
        "id": "-5Y6BcXkVQfI",
        "outputId": "6125c0bd-3889-40ef-b65f-d207198595e2"
      },
      "source": [
        "np.zeros(10)    # 모든 요소를 0으로 초기화"
      ],
      "execution_count": 2,
      "outputs": [
        {
          "output_type": "execute_result",
          "data": {
            "text/plain": [
              "array([0., 0., 0., 0., 0., 0., 0., 0., 0., 0.])"
            ]
          },
          "metadata": {
            "tags": []
          },
          "execution_count": 2
        }
      ]
    },
    {
      "cell_type": "code",
      "metadata": {
        "colab": {
          "base_uri": "https://localhost:8080/"
        },
        "id": "KrkDBpG5VVr5",
        "outputId": "a3fb7d1f-7b39-4e71-de80-0f76f7ce2491"
      },
      "source": [
        "np.ones((3, 3))     # 모든 요소를 1으로 초기화"
      ],
      "execution_count": 7,
      "outputs": [
        {
          "output_type": "execute_result",
          "data": {
            "text/plain": [
              "array([[1., 1., 1.],\n",
              "       [1., 1., 1.],\n",
              "       [1., 1., 1.]])"
            ]
          },
          "metadata": {
            "tags": []
          },
          "execution_count": 7
        }
      ]
    },
    {
      "cell_type": "code",
      "metadata": {
        "colab": {
          "base_uri": "https://localhost:8080/"
        },
        "id": "LIgzwZa9Vbqg",
        "outputId": "1b435aa9-a51d-482f-c725-6744e7db1cac"
      },
      "source": [
        "np.full((3,3), \"15\")   # 틀을 잡고 초기화 값 지정"
      ],
      "execution_count": 9,
      "outputs": [
        {
          "output_type": "execute_result",
          "data": {
            "text/plain": [
              "array([['15', '15', '15'],\n",
              "       ['15', '15', '15'],\n",
              "       ['15', '15', '15']], dtype='<U2')"
            ]
          },
          "metadata": {
            "tags": []
          },
          "execution_count": 9
        }
      ]
    },
    {
      "cell_type": "code",
      "metadata": {
        "colab": {
          "base_uri": "https://localhost:8080/"
        },
        "id": "MljtTJJvVepk",
        "outputId": "b8a43561-fd3b-43da-ba2b-15cb097f3567"
      },
      "source": [
        "np.eye(5)    # 정사각형인 단위행렬 생성"
      ],
      "execution_count": 10,
      "outputs": [
        {
          "output_type": "execute_result",
          "data": {
            "text/plain": [
              "array([[1., 0., 0., 0., 0.],\n",
              "       [0., 1., 0., 0., 0.],\n",
              "       [0., 0., 1., 0., 0.],\n",
              "       [0., 0., 0., 1., 0.],\n",
              "       [0., 0., 0., 0., 1.]])"
            ]
          },
          "metadata": {
            "tags": []
          },
          "execution_count": 10
        }
      ]
    },
    {
      "cell_type": "code",
      "metadata": {
        "colab": {
          "base_uri": "https://localhost:8080/"
        },
        "id": "G8mdERXdWG9T",
        "outputId": "691f7fb7-9839-489e-9b81-1b81b554add6"
      },
      "source": [
        "np.tri(5)    # 삼각행렬 생성"
      ],
      "execution_count": 11,
      "outputs": [
        {
          "output_type": "execute_result",
          "data": {
            "text/plain": [
              "array([[1., 0., 0., 0., 0.],\n",
              "       [1., 1., 0., 0., 0.],\n",
              "       [1., 1., 1., 0., 0.],\n",
              "       [1., 1., 1., 1., 0.],\n",
              "       [1., 1., 1., 1., 1.]])"
            ]
          },
          "metadata": {
            "tags": []
          },
          "execution_count": 11
        }
      ]
    },
    {
      "cell_type": "code",
      "metadata": {
        "id": "ikoya6QkWPX2"
      },
      "source": [
        "## 생성한 값으로 배열 생성"
      ],
      "execution_count": 24,
      "outputs": []
    },
    {
      "cell_type": "code",
      "metadata": {
        "colab": {
          "base_uri": "https://localhost:8080/"
        },
        "id": "1Z3oNgyqXxhO",
        "outputId": "957b54c1-6b48-4a05-fa92-77a1b7ab5136"
      },
      "source": [
        "np.arange(0, 30, 2)     ## 정수 범위로 배열 생성"
      ],
      "execution_count": 26,
      "outputs": [
        {
          "output_type": "execute_result",
          "data": {
            "text/plain": [
              "array([ 0,  2,  4,  6,  8, 10, 12, 14, 16, 18, 20, 22, 24, 26, 28])"
            ]
          },
          "metadata": {
            "tags": []
          },
          "execution_count": 26
        }
      ]
    },
    {
      "cell_type": "code",
      "metadata": {
        "colab": {
          "base_uri": "https://localhost:8080/"
        },
        "id": "wIEC7DpgYT9T",
        "outputId": "ffd384c8-1f1b-40b8-a99c-92ae8250c661"
      },
      "source": [
        "np.linspace(0, 1, 5)   # 범위 내에서 균등 간격으로 배열 생성"
      ],
      "execution_count": 27,
      "outputs": [
        {
          "output_type": "execute_result",
          "data": {
            "text/plain": [
              "array([0.  , 0.25, 0.5 , 0.75, 1.  ])"
            ]
          },
          "metadata": {
            "tags": []
          },
          "execution_count": 27
        }
      ]
    },
    {
      "cell_type": "code",
      "metadata": {
        "colab": {
          "base_uri": "https://localhost:8080/"
        },
        "id": "789g8dAnYoGJ",
        "outputId": "60c19398-2e1b-4c9a-8119-e0266321a629"
      },
      "source": [
        "np.logspace(0.1, 1, 20)    # 범위 내 균등 간격 배열 생성하되, 로그 스케일로 생성"
      ],
      "execution_count": 28,
      "outputs": [
        {
          "output_type": "execute_result",
          "data": {
            "text/plain": [
              "array([ 1.25892541,  1.40400425,  1.565802  ,  1.74624535,  1.94748304,\n",
              "        2.1719114 ,  2.42220294,  2.70133812,  3.0126409 ,  3.35981829,\n",
              "        3.74700446,  4.17881006,  4.66037703,  5.19743987,  5.79639395,\n",
              "        6.46437163,  7.2093272 ,  8.04013161,  8.9666781 , 10.        ])"
            ]
          },
          "metadata": {
            "tags": []
          },
          "execution_count": 28
        }
      ]
    },
    {
      "cell_type": "code",
      "metadata": {
        "colab": {
          "base_uri": "https://localhost:8080/"
        },
        "id": "Q_wSv5gGY8Zt",
        "outputId": "2cc16412-b281-4eff-e2d8-16cd54ed7a08"
      },
      "source": [
        "np.random.random((5, 5))   # 랜덤한 실수의 배열 생성.. 튜플로 형태만 지정"
      ],
      "execution_count": 29,
      "outputs": [
        {
          "output_type": "execute_result",
          "data": {
            "text/plain": [
              "array([[0.37943176, 0.4174978 , 0.15295474, 0.01560562, 0.57861972],\n",
              "       [0.4886627 , 0.44745752, 0.73017305, 0.61460916, 0.73531184],\n",
              "       [0.42641849, 0.39912793, 0.44779777, 0.23447379, 0.53557477],\n",
              "       [0.70312157, 0.90418084, 0.90915487, 0.02774321, 0.28085696],\n",
              "       [0.82443155, 0.25656289, 0.21955591, 0.35403267, 0.021143  ]])"
            ]
          },
          "metadata": {
            "tags": []
          },
          "execution_count": 29
        }
      ]
    },
    {
      "cell_type": "code",
      "metadata": {
        "colab": {
          "base_uri": "https://localhost:8080/"
        },
        "id": "F9ZJa-_nZQOV",
        "outputId": "4b3fc861-1d79-482f-f820-ac9c9d570f3c"
      },
      "source": [
        "np.random.randint(0, 10, (5, 5))   # 랜덤한 정수의 배열 생성.. 램덤 정수 범위 지정후 배열 형태 지정"
      ],
      "execution_count": 30,
      "outputs": [
        {
          "output_type": "execute_result",
          "data": {
            "text/plain": [
              "array([[8, 3, 3, 2, 4],\n",
              "       [3, 3, 6, 6, 0],\n",
              "       [9, 7, 9, 2, 1],\n",
              "       [4, 1, 3, 5, 9],\n",
              "       [8, 4, 9, 3, 0]])"
            ]
          },
          "metadata": {
            "tags": []
          },
          "execution_count": 30
        }
      ]
    },
    {
      "cell_type": "code",
      "metadata": {
        "colab": {
          "base_uri": "https://localhost:8080/"
        },
        "id": "8xDKGZlJZhAA",
        "outputId": "18b225f4-34a5-4865-a0db-275d3749efe1"
      },
      "source": [
        "np.random.normal(0, 1, (3, 3))   # 정규분포를 고려한 랜덤한 수의 배열 생성"
      ],
      "execution_count": 32,
      "outputs": [
        {
          "output_type": "execute_result",
          "data": {
            "text/plain": [
              "array([[-0.25937026,  1.2535737 , -0.46727206],\n",
              "       [-0.94067096, -0.2298729 , -2.20505874],\n",
              "       [ 0.57926241, -0.1409718 , -0.01338525]])"
            ]
          },
          "metadata": {
            "tags": []
          },
          "execution_count": 32
        }
      ]
    },
    {
      "cell_type": "code",
      "metadata": {
        "colab": {
          "base_uri": "https://localhost:8080/"
        },
        "id": "7hYCIqQ-Z5p4",
        "outputId": "54d8530d-660f-4a18-cf25-2a06314251de"
      },
      "source": [
        "np.random.rand(5, 5)    # 균등분포를 고려한 랜덤한 수의 배열 생성 (배열 형태만 지정)"
      ],
      "execution_count": 37,
      "outputs": [
        {
          "output_type": "execute_result",
          "data": {
            "text/plain": [
              "array([[0.72933367, 0.10812457, 0.05522505, 0.64455036, 0.54609067],\n",
              "       [0.26483211, 0.88253355, 0.01171481, 0.97449614, 0.26103662],\n",
              "       [0.65922853, 0.96861306, 0.9309611 , 0.41855515, 0.3170308 ],\n",
              "       [0.21709201, 0.67100211, 0.46888744, 0.81521596, 0.05432422],\n",
              "       [0.72533104, 0.40062041, 0.08182717, 0.38586392, 0.01318632]])"
            ]
          },
          "metadata": {
            "tags": []
          },
          "execution_count": 37
        }
      ]
    },
    {
      "cell_type": "code",
      "metadata": {
        "colab": {
          "base_uri": "https://localhost:8080/"
        },
        "id": "mAZyZlw4aGrp",
        "outputId": "d37d93fa-d0db-4cd7-c85c-b526ecbd4c26"
      },
      "source": [
        "np.random.randn(5, 5)   # 표준정규분포를 고려한 랜덤한 수의 배열 생성"
      ],
      "execution_count": 38,
      "outputs": [
        {
          "output_type": "execute_result",
          "data": {
            "text/plain": [
              "array([[ 5.04074856e-01,  3.53878091e-02,  6.77748219e-01,\n",
              "         2.62567405e-01,  7.40090648e-01],\n",
              "       [ 4.86856644e-01,  4.24260956e-01, -1.62917514e+00,\n",
              "        -6.33298397e-04,  2.15820689e-01],\n",
              "       [ 8.38442908e-01,  2.85536723e-02, -1.42493582e+00,\n",
              "         1.57019588e+00, -2.73626277e-01],\n",
              "       [ 4.12545881e-01,  1.25582481e+00, -9.54743991e-01,\n",
              "         1.10956564e+00, -9.68101497e-01],\n",
              "       [ 3.89617461e-01, -7.24097824e-01,  4.69791844e-01,\n",
              "         3.53987168e-01, -6.08422783e-01]])"
            ]
          },
          "metadata": {
            "tags": []
          },
          "execution_count": 38
        }
      ]
    },
    {
      "cell_type": "code",
      "metadata": {
        "id": "eAaWJgBOacot"
      },
      "source": [
        ""
      ],
      "execution_count": null,
      "outputs": []
    }
  ]
}