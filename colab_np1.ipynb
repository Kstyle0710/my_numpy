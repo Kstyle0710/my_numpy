{
  "nbformat": 4,
  "nbformat_minor": 0,
  "metadata": {
    "colab": {
      "name": "colab_np1.ipynb",
      "provenance": [],
      "collapsed_sections": [],
      "toc_visible": true,
      "authorship_tag": "ABX9TyO9BSlEECRyxlIZJg6ICCGE",
      "include_colab_link": true
    },
    "kernelspec": {
      "name": "python3",
      "display_name": "Python 3"
    }
  },
  "cells": [
    {
      "cell_type": "markdown",
      "metadata": {
        "id": "view-in-github",
        "colab_type": "text"
      },
      "source": [
        "<a href=\"https://colab.research.google.com/github/Kstyle0710/my_numpy/blob/master/colab_np1.ipynb\" target=\"_parent\"><img src=\"https://colab.research.google.com/assets/colab-badge.svg\" alt=\"Open In Colab\"/></a>"
      ]
    },
    {
      "cell_type": "code",
      "metadata": {
        "id": "I6eF-x18Uwlp"
      },
      "source": [
        "import numpy as np"
      ],
      "execution_count": 2,
      "outputs": []
    },
    {
      "cell_type": "markdown",
      "metadata": {
        "id": "OgsbcbkNWj7D"
      },
      "source": [
        "# 1. np array 생성"
      ]
    },
    {
      "cell_type": "code",
      "metadata": {
        "colab": {
          "base_uri": "https://localhost:8080/"
        },
        "id": "rzDa_u1tWuoj",
        "outputId": "5a716307-b7fc-4e37-a734-629d4c997541"
      },
      "source": [
        "## 1차원 배열\n",
        "a1 = np.array([1, 2, 3, 4, 5])\n",
        "print(a1)\n",
        "print(type(a1))\n",
        "print(a1.shape)\n",
        "print(a1[0])"
      ],
      "execution_count": 3,
      "outputs": [
        {
          "output_type": "stream",
          "text": [
            "[1 2 3 4 5]\n",
            "<class 'numpy.ndarray'>\n",
            "(5,)\n",
            "1\n"
          ],
          "name": "stdout"
        }
      ]
    },
    {
      "cell_type": "code",
      "metadata": {
        "colab": {
          "base_uri": "https://localhost:8080/"
        },
        "id": "RmUB7uAqXA2t",
        "outputId": "796062a9-9042-4851-de49-c871bee9941a"
      },
      "source": [
        "## 2차원 배열\n",
        "a2 = np.array([[1, 2, 3], [4, 5, 6]])\n",
        "print(a2)\n",
        "print(type(a2))\n",
        "print(a2.shape)\n",
        "print(a2[0][1])"
      ],
      "execution_count": 4,
      "outputs": [
        {
          "output_type": "stream",
          "text": [
            "[[1 2 3]\n",
            " [4 5 6]]\n",
            "<class 'numpy.ndarray'>\n",
            "(2, 3)\n",
            "2\n"
          ],
          "name": "stdout"
        }
      ]
    },
    {
      "cell_type": "code",
      "metadata": {
        "colab": {
          "base_uri": "https://localhost:8080/"
        },
        "id": "HxFnaMOVXJoN",
        "outputId": "c88d1e58-3443-4c2b-93e2-4bfc858f739e"
      },
      "source": [
        "## 3차원 배열\n",
        "a3 = np.array([[[1, 2, 3], [4, 5, 6]], [[1, 2, 3], [4, 5, 6]], [[1, 2, 3], [4, 5, 6]]])\n",
        "print(a3)\n",
        "print(type(a3))\n",
        "print(a3.shape)\n",
        "print(a3[0][1])"
      ],
      "execution_count": 5,
      "outputs": [
        {
          "output_type": "stream",
          "text": [
            "[[[1 2 3]\n",
            "  [4 5 6]]\n",
            "\n",
            " [[1 2 3]\n",
            "  [4 5 6]]\n",
            "\n",
            " [[1 2 3]\n",
            "  [4 5 6]]]\n",
            "<class 'numpy.ndarray'>\n",
            "(3, 2, 3)\n",
            "[4 5 6]\n"
          ],
          "name": "stdout"
        }
      ]
    },
    {
      "cell_type": "markdown",
      "metadata": {
        "id": "5QkCGrTpVNFl"
      },
      "source": [
        "# 2. 배열 생성 및 초기화"
      ]
    },
    {
      "cell_type": "code",
      "metadata": {
        "colab": {
          "base_uri": "https://localhost:8080/"
        },
        "id": "-5Y6BcXkVQfI",
        "outputId": "cfe31f29-f990-410d-97c9-a8e5b9c36545"
      },
      "source": [
        "np.zeros(10)    # 모든 요소를 0으로 초기화"
      ],
      "execution_count": 6,
      "outputs": [
        {
          "output_type": "execute_result",
          "data": {
            "text/plain": [
              "array([0., 0., 0., 0., 0., 0., 0., 0., 0., 0.])"
            ]
          },
          "metadata": {
            "tags": []
          },
          "execution_count": 6
        }
      ]
    },
    {
      "cell_type": "code",
      "metadata": {
        "colab": {
          "base_uri": "https://localhost:8080/"
        },
        "id": "KrkDBpG5VVr5",
        "outputId": "99d4420c-3515-4abe-fb85-a1dffc693d48"
      },
      "source": [
        "np.ones((3, 3))     # 모든 요소를 1으로 초기화"
      ],
      "execution_count": 7,
      "outputs": [
        {
          "output_type": "execute_result",
          "data": {
            "text/plain": [
              "array([[1., 1., 1.],\n",
              "       [1., 1., 1.],\n",
              "       [1., 1., 1.]])"
            ]
          },
          "metadata": {
            "tags": []
          },
          "execution_count": 7
        }
      ]
    },
    {
      "cell_type": "code",
      "metadata": {
        "colab": {
          "base_uri": "https://localhost:8080/"
        },
        "id": "LIgzwZa9Vbqg",
        "outputId": "15a1ce22-49bc-4702-92fa-959680975872"
      },
      "source": [
        "np.full((3,3), \"15\")   # 틀을 잡고 초기화 값 지정"
      ],
      "execution_count": 8,
      "outputs": [
        {
          "output_type": "execute_result",
          "data": {
            "text/plain": [
              "array([['15', '15', '15'],\n",
              "       ['15', '15', '15'],\n",
              "       ['15', '15', '15']], dtype='<U2')"
            ]
          },
          "metadata": {
            "tags": []
          },
          "execution_count": 8
        }
      ]
    },
    {
      "cell_type": "code",
      "metadata": {
        "colab": {
          "base_uri": "https://localhost:8080/"
        },
        "id": "MljtTJJvVepk",
        "outputId": "c1b2841d-d523-485d-8d86-7eeb0b8ccbec"
      },
      "source": [
        "np.eye(5)    # 정사각형인 단위행렬 생성"
      ],
      "execution_count": 9,
      "outputs": [
        {
          "output_type": "execute_result",
          "data": {
            "text/plain": [
              "array([[1., 0., 0., 0., 0.],\n",
              "       [0., 1., 0., 0., 0.],\n",
              "       [0., 0., 1., 0., 0.],\n",
              "       [0., 0., 0., 1., 0.],\n",
              "       [0., 0., 0., 0., 1.]])"
            ]
          },
          "metadata": {
            "tags": []
          },
          "execution_count": 9
        }
      ]
    },
    {
      "cell_type": "code",
      "metadata": {
        "colab": {
          "base_uri": "https://localhost:8080/"
        },
        "id": "G8mdERXdWG9T",
        "outputId": "2acaa4f0-eaf8-4664-ef92-06ae5848a0e8"
      },
      "source": [
        "np.tri(5)    # 삼각행렬 생성"
      ],
      "execution_count": 10,
      "outputs": [
        {
          "output_type": "execute_result",
          "data": {
            "text/plain": [
              "array([[1., 0., 0., 0., 0.],\n",
              "       [1., 1., 0., 0., 0.],\n",
              "       [1., 1., 1., 0., 0.],\n",
              "       [1., 1., 1., 1., 0.],\n",
              "       [1., 1., 1., 1., 1.]])"
            ]
          },
          "metadata": {
            "tags": []
          },
          "execution_count": 10
        }
      ]
    },
    {
      "cell_type": "code",
      "metadata": {
        "id": "ikoya6QkWPX2"
      },
      "source": [
        "## 생성한 값으로 배열 생성"
      ],
      "execution_count": 11,
      "outputs": []
    },
    {
      "cell_type": "code",
      "metadata": {
        "colab": {
          "base_uri": "https://localhost:8080/"
        },
        "id": "1Z3oNgyqXxhO",
        "outputId": "8a410201-5495-4b74-ab13-f891c4fb6559"
      },
      "source": [
        "np.arange(0, 30, 2)     ## 정수 범위로 배열 생성"
      ],
      "execution_count": 12,
      "outputs": [
        {
          "output_type": "execute_result",
          "data": {
            "text/plain": [
              "array([ 0,  2,  4,  6,  8, 10, 12, 14, 16, 18, 20, 22, 24, 26, 28])"
            ]
          },
          "metadata": {
            "tags": []
          },
          "execution_count": 12
        }
      ]
    },
    {
      "cell_type": "code",
      "metadata": {
        "colab": {
          "base_uri": "https://localhost:8080/"
        },
        "id": "wIEC7DpgYT9T",
        "outputId": "13d35031-2bcb-4e5b-b966-9de174a1d568"
      },
      "source": [
        "np.linspace(0, 1, 5)   # 범위 내에서 균등 간격으로 배열 생성"
      ],
      "execution_count": 13,
      "outputs": [
        {
          "output_type": "execute_result",
          "data": {
            "text/plain": [
              "array([0.  , 0.25, 0.5 , 0.75, 1.  ])"
            ]
          },
          "metadata": {
            "tags": []
          },
          "execution_count": 13
        }
      ]
    },
    {
      "cell_type": "code",
      "metadata": {
        "colab": {
          "base_uri": "https://localhost:8080/"
        },
        "id": "789g8dAnYoGJ",
        "outputId": "f1143876-f570-4894-a96d-6eaaff7558e4"
      },
      "source": [
        "np.logspace(0.1, 1, 20)    # 범위 내 균등 간격 배열 생성하되, 로그 스케일로 생성"
      ],
      "execution_count": 14,
      "outputs": [
        {
          "output_type": "execute_result",
          "data": {
            "text/plain": [
              "array([ 1.25892541,  1.40400425,  1.565802  ,  1.74624535,  1.94748304,\n",
              "        2.1719114 ,  2.42220294,  2.70133812,  3.0126409 ,  3.35981829,\n",
              "        3.74700446,  4.17881006,  4.66037703,  5.19743987,  5.79639395,\n",
              "        6.46437163,  7.2093272 ,  8.04013161,  8.9666781 , 10.        ])"
            ]
          },
          "metadata": {
            "tags": []
          },
          "execution_count": 14
        }
      ]
    },
    {
      "cell_type": "code",
      "metadata": {
        "colab": {
          "base_uri": "https://localhost:8080/"
        },
        "id": "Q_wSv5gGY8Zt",
        "outputId": "9526a522-7ffb-4a0e-bb9f-55a3fc5aebf5"
      },
      "source": [
        "np.random.random((5, 5))   # 랜덤한 실수의 배열 생성.. 튜플로 형태만 지정"
      ],
      "execution_count": 15,
      "outputs": [
        {
          "output_type": "execute_result",
          "data": {
            "text/plain": [
              "array([[0.07026651, 0.71904471, 0.83276085, 0.51928131, 0.54897789],\n",
              "       [0.10053049, 0.80984699, 0.59345456, 0.79389895, 0.26811328],\n",
              "       [0.39456693, 0.03434597, 0.8730384 , 0.51919752, 0.25987018],\n",
              "       [0.12939158, 0.41888078, 0.7231805 , 0.8543403 , 0.60103513],\n",
              "       [0.58844885, 0.02509231, 0.02168046, 0.45290472, 0.88508271]])"
            ]
          },
          "metadata": {
            "tags": []
          },
          "execution_count": 15
        }
      ]
    },
    {
      "cell_type": "code",
      "metadata": {
        "colab": {
          "base_uri": "https://localhost:8080/"
        },
        "id": "F9ZJa-_nZQOV",
        "outputId": "be0eb463-f334-4b38-c20a-39d7c52b74b7"
      },
      "source": [
        "np.random.randint(0, 10, (5, 5))   # 랜덤한 정수의 배열 생성.. 램덤 정수 범위 지정후 배열 형태 지정"
      ],
      "execution_count": 16,
      "outputs": [
        {
          "output_type": "execute_result",
          "data": {
            "text/plain": [
              "array([[7, 2, 0, 1, 9],\n",
              "       [6, 0, 7, 9, 4],\n",
              "       [2, 4, 1, 5, 3],\n",
              "       [4, 0, 3, 7, 2],\n",
              "       [5, 1, 9, 0, 8]])"
            ]
          },
          "metadata": {
            "tags": []
          },
          "execution_count": 16
        }
      ]
    },
    {
      "cell_type": "code",
      "metadata": {
        "colab": {
          "base_uri": "https://localhost:8080/"
        },
        "id": "8xDKGZlJZhAA",
        "outputId": "66854b42-4729-477a-9aab-be9e29c5379c"
      },
      "source": [
        "np.random.normal(0, 1, (3, 3))   # 정규분포를 고려한 랜덤한 수의 배열 생성"
      ],
      "execution_count": 17,
      "outputs": [
        {
          "output_type": "execute_result",
          "data": {
            "text/plain": [
              "array([[ 0.69225083, -1.10924106, -0.83850178],\n",
              "       [-1.40497462, -1.15567437, -2.05472305],\n",
              "       [ 0.75444345,  0.19885393, -0.89246904]])"
            ]
          },
          "metadata": {
            "tags": []
          },
          "execution_count": 17
        }
      ]
    },
    {
      "cell_type": "code",
      "metadata": {
        "colab": {
          "base_uri": "https://localhost:8080/"
        },
        "id": "7hYCIqQ-Z5p4",
        "outputId": "bfc5a771-61ee-4c39-c7f6-dee299d14d73"
      },
      "source": [
        "np.random.rand(5, 5)    # 균등분포를 고려한 랜덤한 수의 배열 생성 (배열 형태만 지정)"
      ],
      "execution_count": 18,
      "outputs": [
        {
          "output_type": "execute_result",
          "data": {
            "text/plain": [
              "array([[0.35454434, 0.86222985, 0.69830191, 0.77087467, 0.65201999],\n",
              "       [0.67592009, 0.91929356, 0.75110463, 0.62170651, 0.03449251],\n",
              "       [0.70044676, 0.64804161, 0.45688488, 0.09858173, 0.7809074 ],\n",
              "       [0.21340365, 0.0304152 , 0.90812797, 0.19727963, 0.71537932],\n",
              "       [0.8766074 , 0.2411494 , 0.92837734, 0.31679802, 0.72745341]])"
            ]
          },
          "metadata": {
            "tags": []
          },
          "execution_count": 18
        }
      ]
    },
    {
      "cell_type": "code",
      "metadata": {
        "colab": {
          "base_uri": "https://localhost:8080/"
        },
        "id": "mAZyZlw4aGrp",
        "outputId": "3268498f-fd20-47f6-dfb7-e35bfaa34f21"
      },
      "source": [
        "np.random.randn(5, 5)   # 표준정규분포를 고려한 랜덤한 수의 배열 생성"
      ],
      "execution_count": 19,
      "outputs": [
        {
          "output_type": "execute_result",
          "data": {
            "text/plain": [
              "array([[ 0.85611001, -0.09485818, -0.23437064,  1.07098597,  0.68864309],\n",
              "       [ 0.3542115 ,  0.99862613, -0.18857615,  0.74645979,  0.79608558],\n",
              "       [ 0.46470092, -0.85396841, -0.28004354,  1.05346335,  2.11821574],\n",
              "       [ 0.85304576, -0.37958887, -1.9334114 , -0.11363907,  0.65971006],\n",
              "       [ 0.56133534, -0.29292207,  0.15725065,  0.10590952, -0.59105554]])"
            ]
          },
          "metadata": {
            "tags": []
          },
          "execution_count": 19
        }
      ]
    },
    {
      "cell_type": "markdown",
      "metadata": {
        "id": "5DM85qzHbN3K"
      },
      "source": [
        "# 3. 표준 데이터 타입"
      ]
    },
    {
      "cell_type": "code",
      "metadata": {
        "colab": {
          "base_uri": "https://localhost:8080/"
        },
        "id": "unmWnDymbQ6r",
        "outputId": "a60e48b7-2d34-45d8-acd4-eebce5c74ec1"
      },
      "source": [
        "np.zeros(20, dtype=int)"
      ],
      "execution_count": 20,
      "outputs": [
        {
          "output_type": "execute_result",
          "data": {
            "text/plain": [
              "array([0, 0, 0, 0, 0, 0, 0, 0, 0, 0, 0, 0, 0, 0, 0, 0, 0, 0, 0, 0])"
            ]
          },
          "metadata": {
            "tags": []
          },
          "execution_count": 20
        }
      ]
    },
    {
      "cell_type": "code",
      "metadata": {
        "colab": {
          "base_uri": "https://localhost:8080/"
        },
        "id": "VFX_BUZebWHu",
        "outputId": "ba29e95b-35c6-4d2c-d834-1d8ddc218540"
      },
      "source": [
        "np.ones((3, 3), dtype=bool)"
      ],
      "execution_count": 21,
      "outputs": [
        {
          "output_type": "execute_result",
          "data": {
            "text/plain": [
              "array([[ True,  True,  True],\n",
              "       [ True,  True,  True],\n",
              "       [ True,  True,  True]])"
            ]
          },
          "metadata": {
            "tags": []
          },
          "execution_count": 21
        }
      ]
    },
    {
      "cell_type": "code",
      "metadata": {
        "colab": {
          "base_uri": "https://localhost:8080/"
        },
        "id": "Ae6Ywt48bbQ-",
        "outputId": "c17c2523-6503-4e2b-be4f-b61de7df41f6"
      },
      "source": [
        "np.full((3, 3), 1.25, dtype=float)"
      ],
      "execution_count": 22,
      "outputs": [
        {
          "output_type": "execute_result",
          "data": {
            "text/plain": [
              "array([[1.25, 1.25, 1.25],\n",
              "       [1.25, 1.25, 1.25],\n",
              "       [1.25, 1.25, 1.25]])"
            ]
          },
          "metadata": {
            "tags": []
          },
          "execution_count": 22
        }
      ]
    },
    {
      "cell_type": "markdown",
      "metadata": {
        "id": "GSzX1gzFbr-g"
      },
      "source": [
        "# 4. 날짜 및 시간 배열 생성"
      ]
    },
    {
      "cell_type": "code",
      "metadata": {
        "colab": {
          "base_uri": "https://localhost:8080/"
        },
        "id": "MNJb0pzxbx-a",
        "outputId": "029ca111-0baa-4dd8-ecde-014a468d390e"
      },
      "source": [
        "date = np.array('2020-12-07', dtype=np.datetime64)\n",
        "date"
      ],
      "execution_count": 23,
      "outputs": [
        {
          "output_type": "execute_result",
          "data": {
            "text/plain": [
              "array('2020-12-07', dtype='datetime64[D]')"
            ]
          },
          "metadata": {
            "tags": []
          },
          "execution_count": 23
        }
      ]
    },
    {
      "cell_type": "code",
      "metadata": {
        "colab": {
          "base_uri": "https://localhost:8080/"
        },
        "id": "4aZPDTOscHo-",
        "outputId": "b5bca255-befa-4419-f3a2-b5fc38389c26"
      },
      "source": [
        "date + np.arange(12)"
      ],
      "execution_count": 24,
      "outputs": [
        {
          "output_type": "execute_result",
          "data": {
            "text/plain": [
              "array(['2020-12-07', '2020-12-08', '2020-12-09', '2020-12-10',\n",
              "       '2020-12-11', '2020-12-12', '2020-12-13', '2020-12-14',\n",
              "       '2020-12-15', '2020-12-16', '2020-12-17', '2020-12-18'],\n",
              "      dtype='datetime64[D]')"
            ]
          },
          "metadata": {
            "tags": []
          },
          "execution_count": 24
        }
      ]
    },
    {
      "cell_type": "code",
      "metadata": {
        "colab": {
          "base_uri": "https://localhost:8080/"
        },
        "id": "EFgh-r5ycZDI",
        "outputId": "8cd223b7-37eb-4775-a3e8-b12effe89f6c"
      },
      "source": [
        "datetime = np.datetime64('2020-12-07 09:00')\n",
        "datetime"
      ],
      "execution_count": 25,
      "outputs": [
        {
          "output_type": "execute_result",
          "data": {
            "text/plain": [
              "numpy.datetime64('2020-12-07T09:00')"
            ]
          },
          "metadata": {
            "tags": []
          },
          "execution_count": 25
        }
      ]
    },
    {
      "cell_type": "code",
      "metadata": {
        "colab": {
          "base_uri": "https://localhost:8080/"
        },
        "id": "8gQA7rYccq0F",
        "outputId": "9697a214-8bd8-4c65-abc9-4bc70972ca17"
      },
      "source": [
        "datetime = np.datetime64('2020-12-07 09:00:12.455', 'ns')    # 나노초는 맨뒤에 'ns' 추가\n",
        "datetime"
      ],
      "execution_count": 26,
      "outputs": [
        {
          "output_type": "execute_result",
          "data": {
            "text/plain": [
              "numpy.datetime64('2020-12-07T09:00:12.455000000')"
            ]
          },
          "metadata": {
            "tags": []
          },
          "execution_count": 26
        }
      ]
    },
    {
      "cell_type": "markdown",
      "metadata": {
        "id": "hx1HEGmEdNJJ"
      },
      "source": [
        "# 5. 배열 속성 정보 조회"
      ]
    },
    {
      "cell_type": "code",
      "metadata": {
        "id": "PJIIHVbGc5vm"
      },
      "source": [
        "def array_info(a):\n",
        "  print(a)\n",
        "  print(\"ndim:\", a.ndim)\n",
        "  print(\"shape:\", a.shape)\n",
        "  print(\"dtype:\", a.dtype)\n",
        "  print(\"size:\", a.size)\n",
        "  print(\"itemsize:\", a.itemsize)    # 값 하나가 차지하는 바이트\n",
        "  print(\"nbytes:\", a.nbytes)\n",
        "  print(\"strides:\", a.strides)    # 다음 값 다음 차원으로 넘어가기 위해 필요한 바이트"
      ],
      "execution_count": 27,
      "outputs": []
    },
    {
      "cell_type": "code",
      "metadata": {
        "colab": {
          "base_uri": "https://localhost:8080/"
        },
        "id": "w4rxjAIgeHAf",
        "outputId": "c9206d1d-a565-41a7-e9c1-44719d37fb44"
      },
      "source": [
        "array_info(a1)"
      ],
      "execution_count": 28,
      "outputs": [
        {
          "output_type": "stream",
          "text": [
            "[1 2 3 4 5]\n",
            "ndim: 1\n",
            "shape: (5,)\n",
            "dtype: int64\n",
            "size: 5\n",
            "itemsize: 8\n",
            "nbytes: 40\n",
            "strides: (8,)\n"
          ],
          "name": "stdout"
        }
      ]
    },
    {
      "cell_type": "code",
      "metadata": {
        "colab": {
          "base_uri": "https://localhost:8080/"
        },
        "id": "QNxCAtZYeJDc",
        "outputId": "b16b4d1a-4671-40f0-c44f-9c3d95568dba"
      },
      "source": [
        "array_info(a2)"
      ],
      "execution_count": 29,
      "outputs": [
        {
          "output_type": "stream",
          "text": [
            "[[1 2 3]\n",
            " [4 5 6]]\n",
            "ndim: 2\n",
            "shape: (2, 3)\n",
            "dtype: int64\n",
            "size: 6\n",
            "itemsize: 8\n",
            "nbytes: 48\n",
            "strides: (24, 8)\n"
          ],
          "name": "stdout"
        }
      ]
    },
    {
      "cell_type": "code",
      "metadata": {
        "colab": {
          "base_uri": "https://localhost:8080/"
        },
        "id": "PVHCSPcpeK_s",
        "outputId": "cff1bc1d-5c58-4086-b4fa-903a40473350"
      },
      "source": [
        "array_info(a3)"
      ],
      "execution_count": 30,
      "outputs": [
        {
          "output_type": "stream",
          "text": [
            "[[[1 2 3]\n",
            "  [4 5 6]]\n",
            "\n",
            " [[1 2 3]\n",
            "  [4 5 6]]\n",
            "\n",
            " [[1 2 3]\n",
            "  [4 5 6]]]\n",
            "ndim: 3\n",
            "shape: (3, 2, 3)\n",
            "dtype: int64\n",
            "size: 18\n",
            "itemsize: 8\n",
            "nbytes: 144\n",
            "strides: (48, 24, 8)\n"
          ],
          "name": "stdout"
        }
      ]
    },
    {
      "cell_type": "markdown",
      "metadata": {
        "id": "mtZR_prCe-Md"
      },
      "source": [
        "# 6. 인덱싱"
      ]
    },
    {
      "cell_type": "code",
      "metadata": {
        "colab": {
          "base_uri": "https://localhost:8080/"
        },
        "id": "QQlLOND5eqHB",
        "outputId": "d319d715-9bb7-4b70-ac2c-dc699a0250c7"
      },
      "source": [
        "print(a1)\n",
        "print(a1[0])\n",
        "print(a1[2])\n",
        "print(a1[-1])\n",
        "print(a1[-3])"
      ],
      "execution_count": 31,
      "outputs": [
        {
          "output_type": "stream",
          "text": [
            "[1 2 3 4 5]\n",
            "1\n",
            "3\n",
            "5\n",
            "3\n"
          ],
          "name": "stdout"
        }
      ]
    },
    {
      "cell_type": "code",
      "metadata": {
        "colab": {
          "base_uri": "https://localhost:8080/"
        },
        "id": "-Mc6MKUrfUsZ",
        "outputId": "c75b2a06-eb9e-4f66-8580-4f27f6076cd2"
      },
      "source": [
        "print(a2)\n",
        "print(a2[0, 1])\n",
        "print(a2[1, 1])\n",
        "print(a2[-1, 2])\n",
        "print(a2[1][-1])"
      ],
      "execution_count": 32,
      "outputs": [
        {
          "output_type": "stream",
          "text": [
            "[[1 2 3]\n",
            " [4 5 6]]\n",
            "2\n",
            "5\n",
            "6\n",
            "6\n"
          ],
          "name": "stdout"
        }
      ]
    },
    {
      "cell_type": "markdown",
      "metadata": {
        "id": "jvwBBbvpgY_P"
      },
      "source": [
        "# 7. 슬라이싱"
      ]
    },
    {
      "cell_type": "markdown",
      "metadata": {
        "id": "tsmpkoc_giE2"
      },
      "source": [
        "슬라이싱 구문 : a[ start : stop : step] <br>\n",
        "기본값 : start=0, stop=ndim, step=1"
      ]
    },
    {
      "cell_type": "code",
      "metadata": {
        "colab": {
          "base_uri": "https://localhost:8080/"
        },
        "id": "RHrF9coVfrr-",
        "outputId": "74629243-909d-47cd-d8a7-7c98c4045c5e"
      },
      "source": [
        "print(a1)\n",
        "print(a1[0:2])\n",
        "print(a1[0:])\n",
        "print(a1[:1])\n",
        "print(a1[:2])\n",
        "print(a1[::2])\n",
        "print(a1[::-1])"
      ],
      "execution_count": 33,
      "outputs": [
        {
          "output_type": "stream",
          "text": [
            "[1 2 3 4 5]\n",
            "[1 2]\n",
            "[1 2 3 4 5]\n",
            "[1]\n",
            "[1 2]\n",
            "[1 3 5]\n",
            "[5 4 3 2 1]\n"
          ],
          "name": "stdout"
        }
      ]
    },
    {
      "cell_type": "code",
      "metadata": {
        "colab": {
          "base_uri": "https://localhost:8080/"
        },
        "id": "Wd9Eg1XYhPdo",
        "outputId": "f7563c50-187f-4558-c50f-9d6d9a8a8870"
      },
      "source": [
        "## 블리언 인덱싱\n",
        "print(a1)\n",
        "bi = [False, True, True, False, False]\n",
        "print(a1[bi])     # 블리언 인덱싱이 True인 것만 출력"
      ],
      "execution_count": 34,
      "outputs": [
        {
          "output_type": "stream",
          "text": [
            "[1 2 3 4 5]\n",
            "[2 3]\n"
          ],
          "name": "stdout"
        }
      ]
    },
    {
      "cell_type": "code",
      "metadata": {
        "colab": {
          "base_uri": "https://localhost:8080/"
        },
        "id": "7RVkDND9iUDg",
        "outputId": "e91cf7bf-38da-4958-bb95-9cdd00a38bad"
      },
      "source": [
        "print(a2)\n",
        "bi = np.random.randint(0, 2, (2, 3), dtype=bool)\n",
        "print(bi)\n",
        "print(a2[bi])"
      ],
      "execution_count": 35,
      "outputs": [
        {
          "output_type": "stream",
          "text": [
            "[[1 2 3]\n",
            " [4 5 6]]\n",
            "[[False  True  True]\n",
            " [ True  True  True]]\n",
            "[2 3 4 5 6]\n"
          ],
          "name": "stdout"
        }
      ]
    },
    {
      "cell_type": "code",
      "metadata": {
        "colab": {
          "base_uri": "https://localhost:8080/"
        },
        "id": "HOYEnkg_iylo",
        "outputId": "04cab77c-15af-40e7-da63-03f779dcc86e"
      },
      "source": [
        "## fancy indexing\n",
        "print(a1)\n",
        "print([a1[0], a1[2]])\n",
        "idx = [0, 2]\n",
        "print(a1[idx])"
      ],
      "execution_count": 36,
      "outputs": [
        {
          "output_type": "stream",
          "text": [
            "[1 2 3 4 5]\n",
            "[1, 3]\n",
            "[1 3]\n"
          ],
          "name": "stdout"
        }
      ]
    },
    {
      "cell_type": "code",
      "metadata": {
        "colab": {
          "base_uri": "https://localhost:8080/"
        },
        "id": "-ntLi-C9jR4-",
        "outputId": "34b17196-3284-48dc-ef43-c05d58754dd4"
      },
      "source": [
        "print(a1)                   # 1차원 배열에\n",
        "print([a1[0], a1[2]])\n",
        "idx = np.array([[0, 1], [2, 0]])   # 2차원 인덱싱을 적용하는 경우\n",
        "print(a1[idx])                 # 2차원 배열의 형태로 출력된다."
      ],
      "execution_count": 37,
      "outputs": [
        {
          "output_type": "stream",
          "text": [
            "[1 2 3 4 5]\n",
            "[1, 3]\n",
            "[[1 2]\n",
            " [3 1]]\n"
          ],
          "name": "stdout"
        }
      ]
    },
    {
      "cell_type": "code",
      "metadata": {
        "colab": {
          "base_uri": "https://localhost:8080/"
        },
        "id": "KLsj3ju8jx5k",
        "outputId": "9c7bb301-4713-47db-a4ce-1050342335ef"
      },
      "source": [
        "print(a2)\n",
        "row = np.array([0,1])\n",
        "col = np.array([1,2])\n",
        "print(a2[row, col])"
      ],
      "execution_count": 38,
      "outputs": [
        {
          "output_type": "stream",
          "text": [
            "[[1 2 3]\n",
            " [4 5 6]]\n",
            "[2 6]\n"
          ],
          "name": "stdout"
        }
      ]
    },
    {
      "cell_type": "markdown",
      "metadata": {
        "id": "EU1cinuzlZw8"
      },
      "source": [
        "# 8. 배열 값 삽입/수정/삭제/복사"
      ]
    },
    {
      "cell_type": "markdown",
      "metadata": {
        "id": "r-4r5ax9p3V2"
      },
      "source": [
        "\n",
        "*   insert() : 배열의 특정 위치에 값 삽입\n",
        "*   axis를 지정하지 않으면 1차원 배열로 변환\n",
        "*   추가할 방향을 axis로 지정\n",
        "*   원본 배열 변경없이 새로운 배열 반환\n",
        "\n",
        "\n",
        "\n"
      ]
    },
    {
      "cell_type": "code",
      "metadata": {
        "colab": {
          "base_uri": "https://localhost:8080/"
        },
        "id": "wupq_rhsk0Cv",
        "outputId": "04aab79d-c317-4ef1-980e-76438c87535d"
      },
      "source": [
        "print(a1)\n",
        "b1 = np.insert(a1, 0, 10)\n",
        "print(b1)\n",
        "print(a1)  # a1 원본 값이 변경된 것은 아니다."
      ],
      "execution_count": 39,
      "outputs": [
        {
          "output_type": "stream",
          "text": [
            "[1 2 3 4 5]\n",
            "[10  1  2  3  4  5]\n",
            "[1 2 3 4 5]\n"
          ],
          "name": "stdout"
        }
      ]
    },
    {
      "cell_type": "code",
      "metadata": {
        "colab": {
          "base_uri": "https://localhost:8080/"
        },
        "id": "o5KXfewgqj3A",
        "outputId": "9ef3e8e6-5c7d-42a2-b9c7-fcc515c19045"
      },
      "source": [
        "print(a2)\n",
        "b2 = np.insert(a2, 1, 10, axis=0)\n",
        "print(b2)\n",
        "c2 = np.insert(a2, 1, 10, axis=1)\n",
        "print(c2)"
      ],
      "execution_count": 40,
      "outputs": [
        {
          "output_type": "stream",
          "text": [
            "[[1 2 3]\n",
            " [4 5 6]]\n",
            "[[ 1  2  3]\n",
            " [10 10 10]\n",
            " [ 4  5  6]]\n",
            "[[ 1 10  2  3]\n",
            " [ 4 10  5  6]]\n"
          ],
          "name": "stdout"
        }
      ]
    },
    {
      "cell_type": "code",
      "metadata": {
        "colab": {
          "base_uri": "https://localhost:8080/"
        },
        "id": "XjOruktqrPjb",
        "outputId": "edfea185-eb04-456f-e104-16c9d897a538"
      },
      "source": [
        "# 인덱싱으로 접근하여 값 수정 가능\n",
        "print(a1)\n",
        "a1[0] = 77\n",
        "print(a1)\n",
        "a1[2:4] =  88\n",
        "print(a1)"
      ],
      "execution_count": 41,
      "outputs": [
        {
          "output_type": "stream",
          "text": [
            "[1 2 3 4 5]\n",
            "[77  2  3  4  5]\n",
            "[77  2 88 88  5]\n"
          ],
          "name": "stdout"
        }
      ]
    },
    {
      "cell_type": "code",
      "metadata": {
        "colab": {
          "base_uri": "https://localhost:8080/"
        },
        "id": "xFKN6-9trnGD",
        "outputId": "c6b0a62a-2f45-424f-e418-3b26b93ef499"
      },
      "source": [
        "print(a1)\n",
        "b1 = np.delete(a1, 1)\n",
        "print(b1)\n",
        "print(a1)"
      ],
      "execution_count": 42,
      "outputs": [
        {
          "output_type": "stream",
          "text": [
            "[77  2 88 88  5]\n",
            "[77 88 88  5]\n",
            "[77  2 88 88  5]\n"
          ],
          "name": "stdout"
        }
      ]
    },
    {
      "cell_type": "code",
      "metadata": {
        "colab": {
          "base_uri": "https://localhost:8080/"
        },
        "id": "2yR-EcuZse8k",
        "outputId": "c5950f44-c46f-4d58-ef78-dac3249265d3"
      },
      "source": [
        "print(a2)\n",
        "b2 = np.delete(a2, 1, axis=0)\n",
        "print(b2)"
      ],
      "execution_count": 43,
      "outputs": [
        {
          "output_type": "stream",
          "text": [
            "[[1 2 3]\n",
            " [4 5 6]]\n",
            "[[1 2 3]]\n"
          ],
          "name": "stdout"
        }
      ]
    },
    {
      "cell_type": "code",
      "metadata": {
        "colab": {
          "base_uri": "https://localhost:8080/"
        },
        "id": "LDatmCjKsqWL",
        "outputId": "e7b1bed1-1f8d-42fc-eb96-d42684a92b0a"
      },
      "source": [
        "print(a2)\n",
        "print(\"------------\")\n",
        "a2_sub_copy = a2[:2, :2].copy()   # 별개의 메모리에 복사\n",
        "print(a2_sub_copy)\n",
        "a2_sub_copy[:, 1] = 1\n",
        "print(a2_sub_copy)\n",
        "print(a2)"
      ],
      "execution_count": 44,
      "outputs": [
        {
          "output_type": "stream",
          "text": [
            "[[1 2 3]\n",
            " [4 5 6]]\n",
            "------------\n",
            "[[1 2]\n",
            " [4 5]]\n",
            "[[1 1]\n",
            " [4 1]]\n",
            "[[1 2 3]\n",
            " [4 5 6]]\n"
          ],
          "name": "stdout"
        }
      ]
    },
    {
      "cell_type": "code",
      "metadata": {
        "colab": {
          "base_uri": "https://localhost:8080/"
        },
        "id": "6FwI73jHtfVO",
        "outputId": "04087409-a1c7-4a5e-de7e-556f0a7b98b3"
      },
      "source": [
        "## 배열 전치\n",
        "print(a2)\n",
        "print(a2.T)"
      ],
      "execution_count": 46,
      "outputs": [
        {
          "output_type": "stream",
          "text": [
            "[[1 2 3]\n",
            " [4 5 6]]\n",
            "[[1 4]\n",
            " [2 5]\n",
            " [3 6]]\n"
          ],
          "name": "stdout"
        }
      ]
    },
    {
      "cell_type": "code",
      "metadata": {
        "colab": {
          "base_uri": "https://localhost:8080/"
        },
        "id": "Biq96DZjFz5o",
        "outputId": "2cdfb806-c70c-4216-9a24-869967c2d147"
      },
      "source": [
        "print(a3)\n",
        "print(\"---------------\")\n",
        "print(a3.T)"
      ],
      "execution_count": 48,
      "outputs": [
        {
          "output_type": "stream",
          "text": [
            "[[[1 2 3]\n",
            "  [4 5 6]]\n",
            "\n",
            " [[1 2 3]\n",
            "  [4 5 6]]\n",
            "\n",
            " [[1 2 3]\n",
            "  [4 5 6]]]\n",
            "---------------\n",
            "[[[1 1 1]\n",
            "  [4 4 4]]\n",
            "\n",
            " [[2 2 2]\n",
            "  [5 5 5]]\n",
            "\n",
            " [[3 3 3]\n",
            "  [6 6 6]]]\n"
          ],
          "name": "stdout"
        }
      ]
    },
    {
      "cell_type": "code",
      "metadata": {
        "colab": {
          "base_uri": "https://localhost:8080/"
        },
        "id": "yGlSjdqGGHtD",
        "outputId": "f6b3356d-f811-496d-af12-a8fee317117f"
      },
      "source": [
        "## 배열 재구조화 : reshape()\n",
        "n1 = np.arange(1, 10)\n",
        "print(n1)\n",
        "print(n1.reshape(3, 3))"
      ],
      "execution_count": 50,
      "outputs": [
        {
          "output_type": "stream",
          "text": [
            "[1 2 3 4 5 6 7 8 9]\n",
            "[[1 2 3]\n",
            " [4 5 6]\n",
            " [7 8 9]]\n"
          ],
          "name": "stdout"
        }
      ]
    },
    {
      "cell_type": "code",
      "metadata": {
        "colab": {
          "base_uri": "https://localhost:8080/"
        },
        "id": "7Qc8TpKOGkzy",
        "outputId": "244dfa84-8975-4c4e-a82d-2d66db556140"
      },
      "source": [
        "## 배열의 크기 변경 : resize\n",
        "n2 = np.random.randint(0, 10, (2, 5))\n",
        "print(n2)\n",
        "n2.resize((5, 2))\n",
        "print(n2)"
      ],
      "execution_count": 51,
      "outputs": [
        {
          "output_type": "stream",
          "text": [
            "[[2 2 3 8 8]\n",
            " [3 2 1 6 0]]\n",
            "[[2 2]\n",
            " [3 8]\n",
            " [8 3]\n",
            " [2 1]\n",
            " [6 0]]\n"
          ],
          "name": "stdout"
        }
      ]
    },
    {
      "cell_type": "code",
      "metadata": {
        "colab": {
          "base_uri": "https://localhost:8080/"
        },
        "id": "Zsp_llXoHPbM",
        "outputId": "149e7b91-b02f-4299-e00a-3855259b5adb"
      },
      "source": [
        "n3 = np.random.randint(0, 10, (2, 5))\n",
        "print(n3)\n",
        "n3.resize((10, 5))   # 더 큰 사이즈로 변경\n",
        "print(n3)"
      ],
      "execution_count": 52,
      "outputs": [
        {
          "output_type": "stream",
          "text": [
            "[[2 0 1 2 1]\n",
            " [0 0 5 9 2]]\n",
            "[[2 0 1 2 1]\n",
            " [0 0 5 9 2]\n",
            " [0 0 0 0 0]\n",
            " [0 0 0 0 0]\n",
            " [0 0 0 0 0]\n",
            " [0 0 0 0 0]\n",
            " [0 0 0 0 0]\n",
            " [0 0 0 0 0]\n",
            " [0 0 0 0 0]\n",
            " [0 0 0 0 0]]\n"
          ],
          "name": "stdout"
        }
      ]
    },
    {
      "cell_type": "code",
      "metadata": {
        "colab": {
          "base_uri": "https://localhost:8080/"
        },
        "id": "XBL9iXeEHWdS",
        "outputId": "414d2a09-a0c2-4df5-96c4-f563b80a74b0"
      },
      "source": [
        "n4 = np.random.randint(0, 10, (2, 5))\n",
        "print(n4)\n",
        "n4.resize((2, 2))   # 더 작은 사이즈로 변경\n",
        "print(n4)"
      ],
      "execution_count": 54,
      "outputs": [
        {
          "output_type": "stream",
          "text": [
            "[[1 0 5 3 3]\n",
            " [2 3 3 0 6]]\n",
            "[[1 0]\n",
            " [5 3]]\n"
          ],
          "name": "stdout"
        }
      ]
    },
    {
      "cell_type": "code",
      "metadata": {
        "colab": {
          "base_uri": "https://localhost:8080/"
        },
        "id": "0KOaP5AAHjkf",
        "outputId": "b7e7d796-3384-42ed-e808-5a3b7ebdae8b"
      },
      "source": [
        "## 배열 추가 append()\n",
        "a2 = np.arange(1, 10).reshape(3, 3)\n",
        "print(a2)\n",
        "b2 = np.arange(11, 20).reshape(3, 3)\n",
        "print(b2)\n",
        "c2 = np.append(a2, b2)      ## axis 지정이 없으면 결과가 1차원 배열 형태로 바뀜\n",
        "print(c2)\n",
        "d2 = np.append(a2, b2, axis=0)\n",
        "print(d2)\n",
        "e2 = np.append(a2, b2, axis=1)\n",
        "print(e2)"
      ],
      "execution_count": 64,
      "outputs": [
        {
          "output_type": "stream",
          "text": [
            "[[1 2 3]\n",
            " [4 5 6]\n",
            " [7 8 9]]\n",
            "[[11 12 13]\n",
            " [14 15 16]\n",
            " [17 18 19]]\n",
            "[ 1  2  3  4  5  6  7  8  9 11 12 13 14 15 16 17 18 19]\n",
            "[[ 1  2  3]\n",
            " [ 4  5  6]\n",
            " [ 7  8  9]\n",
            " [11 12 13]\n",
            " [14 15 16]\n",
            " [17 18 19]]\n",
            "[[ 1  2  3 11 12 13]\n",
            " [ 4  5  6 14 15 16]\n",
            " [ 7  8  9 17 18 19]]\n"
          ],
          "name": "stdout"
        }
      ]
    },
    {
      "cell_type": "code",
      "metadata": {
        "colab": {
          "base_uri": "https://localhost:8080/"
        },
        "id": "q0MuY_PaHzyB",
        "outputId": "96091501-1375-49b6-d21b-5a3ae1dc5b2e"
      },
      "source": [
        "## 배열 연결 concatenate()\n",
        "a1 = np.array([1, 2, 3])\n",
        "b1 = np.array([4, 5, 6])\n",
        "np.concatenate([a1, b1])"
      ],
      "execution_count": 66,
      "outputs": [
        {
          "output_type": "execute_result",
          "data": {
            "text/plain": [
              "array([1, 2, 3, 4, 5, 6])"
            ]
          },
          "metadata": {
            "tags": []
          },
          "execution_count": 66
        }
      ]
    },
    {
      "cell_type": "code",
      "metadata": {
        "colab": {
          "base_uri": "https://localhost:8080/"
        },
        "id": "ukEbR4h0Iw8N",
        "outputId": "f66bc7ad-f6ca-4d06-81c4-7bbf185d4f25"
      },
      "source": [
        "## 배열 분할 :split(), vsplit(), hsplit()...\n",
        "a1 = np.arange(0, 10)\n",
        "print(a1)\n",
        "b1, c1 = np.split(a1, [5])    ## 한개가 둘로 분할되었기 때문에 변수 두개에 담아준다.\n",
        "print(b1, c1)\n"
      ],
      "execution_count": 68,
      "outputs": [
        {
          "output_type": "stream",
          "text": [
            "[0 1 2 3 4 5 6 7 8 9]\n",
            "[0 1 2 3 4] [5 6 7 8 9]\n"
          ],
          "name": "stdout"
        }
      ]
    },
    {
      "cell_type": "code",
      "metadata": {
        "colab": {
          "base_uri": "https://localhost:8080/"
        },
        "id": "2rJ2cgjSJzSA",
        "outputId": "42687c20-551f-49aa-9079-dfff2822bf69"
      },
      "source": [
        "a2 = np.arange(1, 10).reshape(3, 3)\n",
        "print(a2)\n",
        "print(\"-------------\")\n",
        "b2, c2 = np.vsplit(a2, [2])\n",
        "print(b2)\n",
        "print(c2)"
      ],
      "execution_count": 72,
      "outputs": [
        {
          "output_type": "stream",
          "text": [
            "[[1 2 3]\n",
            " [4 5 6]\n",
            " [7 8 9]]\n",
            "-------------\n",
            "[[1 2 3]\n",
            " [4 5 6]]\n",
            "[[7 8 9]]\n"
          ],
          "name": "stdout"
        }
      ]
    },
    {
      "cell_type": "code",
      "metadata": {
        "colab": {
          "base_uri": "https://localhost:8080/"
        },
        "id": "AvRAG-OMKXkn",
        "outputId": "8709f133-944a-49cb-fdf1-03b73d39e8e3"
      },
      "source": [
        "a2 = np.arange(1, 10).reshape(3, 3)\n",
        "print(a2)\n",
        "print(\"-------------\")\n",
        "b2, c2 = np.hsplit(a2, [2])\n",
        "print(b2)\n",
        "print(c2)"
      ],
      "execution_count": 73,
      "outputs": [
        {
          "output_type": "stream",
          "text": [
            "[[1 2 3]\n",
            " [4 5 6]\n",
            " [7 8 9]]\n",
            "-------------\n",
            "[[1 2]\n",
            " [4 5]\n",
            " [7 8]]\n",
            "[[3]\n",
            " [6]\n",
            " [9]]\n"
          ],
          "name": "stdout"
        }
      ]
    },
    {
      "cell_type": "markdown",
      "metadata": {
        "id": "7OoEDGApLAYy"
      },
      "source": [
        "# 9. 배열 연산"
      ]
    },
    {
      "cell_type": "code",
      "metadata": {
        "colab": {
          "base_uri": "https://localhost:8080/"
        },
        "id": "tRpw92btKr93",
        "outputId": "e9089835-aa6b-44c3-fd43-aa8a075261e0"
      },
      "source": [
        "a1 = np.array([1, 2, 3])\n",
        "print(a1)\n",
        "b1 = a1 + 6      # 6을 각 값별로 적용해주지 않아도 알아서 적용되서 계산된다. (브로드캐스팅)\n",
        "print(b1)"
      ],
      "execution_count": 75,
      "outputs": [
        {
          "output_type": "stream",
          "text": [
            "[1 2 3]\n",
            "[7 8 9]\n"
          ],
          "name": "stdout"
        }
      ]
    },
    {
      "cell_type": "code",
      "metadata": {
        "colab": {
          "base_uri": "https://localhost:8080/"
        },
        "id": "o5mE3kNeLmnQ",
        "outputId": "210f7b02-013b-452c-fa51-bf2c7e7d377f"
      },
      "source": [
        "a1 = np.array([1, 2, 3])\n",
        "print(a1)\n",
        "b1 = np.array([1, 2, 3]).reshape(3, 1)\n",
        "print(b1)\n",
        "c1 = a1 + b1    # 브로드캐스팅의 결과로 3 by 3 배열이 나온다.\n",
        "print(c1)"
      ],
      "execution_count": 82,
      "outputs": [
        {
          "output_type": "stream",
          "text": [
            "[1 2 3]\n",
            "[[1]\n",
            " [2]\n",
            " [3]]\n",
            "[[2 3 4]\n",
            " [3 4 5]\n",
            " [4 5 6]]\n"
          ],
          "name": "stdout"
        }
      ]
    },
    {
      "cell_type": "code",
      "metadata": {
        "colab": {
          "base_uri": "https://localhost:8080/"
        },
        "id": "eL6l0yADdFKP",
        "outputId": "d7e2415b-130d-410e-aaac-398ff1ed9604"
      },
      "source": [
        "a1 = np.array([7, 8, 9])\n",
        "print(a1/3)\n",
        "print(a1//3)   # 나눗셈 내림\n",
        "print(a1%3)"
      ],
      "execution_count": 88,
      "outputs": [
        {
          "output_type": "stream",
          "text": [
            "[2.33333333 2.66666667 3.        ]\n",
            "[2 2 3]\n",
            "[1 2 0]\n"
          ],
          "name": "stdout"
        }
      ]
    },
    {
      "cell_type": "markdown",
      "metadata": {
        "id": "XNTLlXzDedmy"
      },
      "source": [
        "# 10. 집계 함수"
      ]
    },
    {
      "cell_type": "code",
      "metadata": {
        "colab": {
          "base_uri": "https://localhost:8080/"
        },
        "id": "QMNB8yWldVPy",
        "outputId": "0c18e62f-3f84-4053-abe5-47c255c2b189"
      },
      "source": [
        "a2 = np.random.randint(1, 10, size=(3, 3))\n",
        "print(a2)\n",
        "print(a2.sum(), np.sum(a2))\n",
        "print(a2.sum(axis=0))  # 세로로 더하기\n",
        "print(a2.sum(axis=1))  # 가로로 더하기"
      ],
      "execution_count": 93,
      "outputs": [
        {
          "output_type": "stream",
          "text": [
            "[[7 2 4]\n",
            " [1 7 3]\n",
            " [6 4 9]]\n",
            "43 43\n",
            "[14 13 16]\n",
            "[13 11 19]\n"
          ],
          "name": "stdout"
        }
      ]
    },
    {
      "cell_type": "code",
      "metadata": {
        "colab": {
          "base_uri": "https://localhost:8080/"
        },
        "id": "pgIhygHhfCCG",
        "outputId": "d7d660d7-e29b-4134-add0-05d61e3728da"
      },
      "source": [
        "print(a2)\n",
        "print(np.cumsum(a2))\n",
        "print(a2.cumsum(axis=0)) \n",
        "print(np.cumsum(a2, axis=1))  "
      ],
      "execution_count": 94,
      "outputs": [
        {
          "output_type": "stream",
          "text": [
            "[[7 2 4]\n",
            " [1 7 3]\n",
            " [6 4 9]]\n",
            "[ 7  9 13 14 21 24 30 34 43]\n",
            "[[ 7  2  4]\n",
            " [ 8  9  7]\n",
            " [14 13 16]]\n",
            "[[ 7  9 13]\n",
            " [ 1  8 11]\n",
            " [ 6 10 19]]\n"
          ],
          "name": "stdout"
        }
      ]
    },
    {
      "cell_type": "code",
      "metadata": {
        "colab": {
          "base_uri": "https://localhost:8080/"
        },
        "id": "MrfVKw32fw1f",
        "outputId": "3d81a76b-ad3e-4d87-edc9-e2c0f6654316"
      },
      "source": [
        "print(a2)\n",
        "print(np.diff(a2))\n",
        "print(np.diff(a2, axis=0))  \n",
        "print(np.diff(a2, axis=1))  "
      ],
      "execution_count": 96,
      "outputs": [
        {
          "output_type": "stream",
          "text": [
            "[[7 2 4]\n",
            " [1 7 3]\n",
            " [6 4 9]]\n",
            "[[-5  2]\n",
            " [ 6 -4]\n",
            " [-2  5]]\n",
            "[[-6  5 -1]\n",
            " [ 5 -3  6]]\n",
            "[[-5  2]\n",
            " [ 6 -4]\n",
            " [-2  5]]\n"
          ],
          "name": "stdout"
        }
      ]
    },
    {
      "cell_type": "code",
      "metadata": {
        "colab": {
          "base_uri": "https://localhost:8080/"
        },
        "id": "ITY6bNnngJhp",
        "outputId": "70051661-b02c-4003-8005-37c475731bdf"
      },
      "source": [
        "print(a2)\n",
        "print(np.mean(a2))\n",
        "print(np.mean(a2, axis=0))\n",
        "print(np.mean(a2, axis=1))"
      ],
      "execution_count": 97,
      "outputs": [
        {
          "output_type": "stream",
          "text": [
            "[[7 2 4]\n",
            " [1 7 3]\n",
            " [6 4 9]]\n",
            "4.777777777777778\n",
            "[4.66666667 4.33333333 5.33333333]\n",
            "[4.33333333 3.66666667 6.33333333]\n"
          ],
          "name": "stdout"
        }
      ]
    },
    {
      "cell_type": "code",
      "metadata": {
        "colab": {
          "base_uri": "https://localhost:8080/"
        },
        "id": "2IkMAz8cqDRt",
        "outputId": "4426d108-10b2-4141-e952-51174bf29c36"
      },
      "source": [
        "print(a2)\n",
        "print(np.std(a2))\n",
        "print(np.std(a2, axis=0))\n",
        "print(np.std(a2, axis=1))"
      ],
      "execution_count": 98,
      "outputs": [
        {
          "output_type": "stream",
          "text": [
            "[[7 2 4]\n",
            " [1 7 3]\n",
            " [6 4 9]]\n",
            "2.4845199749997664\n",
            "[2.62466929 2.05480467 2.62466929]\n",
            "[2.05480467 2.49443826 2.05480467]\n"
          ],
          "name": "stdout"
        }
      ]
    },
    {
      "cell_type": "code",
      "metadata": {
        "colab": {
          "base_uri": "https://localhost:8080/"
        },
        "id": "cV9Coh-uqQUu",
        "outputId": "5602f58a-5375-47ec-9768-71fa521d4fba"
      },
      "source": [
        "a2 = np.random.randint(1, 10, size=(3, 3))\n",
        "print(a2)\n",
        "print(np.argmin(a2))    # 최소값 자체가 아닌, 최소값의 인덱스 출력\n",
        "print(np.argmin(a2, axis=0))\n",
        "print(np.argmin(a2, axis=1))"
      ],
      "execution_count": 102,
      "outputs": [
        {
          "output_type": "stream",
          "text": [
            "[[2 9 9]\n",
            " [1 6 5]\n",
            " [1 5 1]]\n",
            "3\n",
            "[1 2 2]\n",
            "[0 0 0]\n"
          ],
          "name": "stdout"
        }
      ]
    },
    {
      "cell_type": "code",
      "metadata": {
        "colab": {
          "base_uri": "https://localhost:8080/"
        },
        "id": "_Tsgtrhlqjoc",
        "outputId": "ffbf4dda-13cf-491d-dbe7-13331e78e42a"
      },
      "source": [
        "a2 = np.array([[False, False, True],\n",
        "               [False, True, True],\n",
        "               [False, True, True]])\n",
        "print(a2)\n",
        "print(np.any(a2))\n",
        "print(np.any(a2, axis=0))\n",
        "print(np.any(a2, axis=1))\n"
      ],
      "execution_count": 103,
      "outputs": [
        {
          "output_type": "stream",
          "text": [
            "[[False False  True]\n",
            " [False  True  True]\n",
            " [False  True  True]]\n",
            "True\n",
            "[False  True  True]\n",
            "[ True  True  True]\n"
          ],
          "name": "stdout"
        }
      ]
    },
    {
      "cell_type": "code",
      "metadata": {
        "colab": {
          "base_uri": "https://localhost:8080/"
        },
        "id": "X1fiWCgwr94w",
        "outputId": "06195234-6db1-468d-a0c6-874ce384943f"
      },
      "source": [
        "a1 = np.arange(1, 10)\n",
        "print(a1)\n",
        "print(a1 == 5)"
      ],
      "execution_count": 104,
      "outputs": [
        {
          "output_type": "stream",
          "text": [
            "[1 2 3 4 5 6 7 8 9]\n",
            "[False False False False  True False False False False]\n"
          ],
          "name": "stdout"
        }
      ]
    },
    {
      "cell_type": "code",
      "metadata": {
        "colab": {
          "base_uri": "https://localhost:8080/"
        },
        "id": "ILFp9_1JsQW7",
        "outputId": "a26ae5b6-60d7-4e94-bce7-021a98b77abd"
      },
      "source": [
        "a2 = np.arange(1, 10).reshape(3, 3)\n",
        "print(a2)\n",
        "print(np.sum(a2))\n",
        "print(np.count_nonzero(a2>5))\n",
        "print(np.sum(a2>5))\n",
        "print(np.sum(a2>5, axis=0))\n",
        "print(np.sum(a2>5, axis=1))"
      ],
      "execution_count": 105,
      "outputs": [
        {
          "output_type": "stream",
          "text": [
            "[[1 2 3]\n",
            " [4 5 6]\n",
            " [7 8 9]]\n",
            "45\n",
            "4\n",
            "4\n",
            "[1 1 2]\n",
            "[0 1 3]\n"
          ],
          "name": "stdout"
        }
      ]
    },
    {
      "cell_type": "code",
      "metadata": {
        "colab": {
          "base_uri": "https://localhost:8080/"
        },
        "id": "kNkaom2Asyfp",
        "outputId": "10ae38a8-bd96-4ce4-9eae-a687a0508bdb"
      },
      "source": [
        "a1 = np.array([1, 2, 3, 4, 5])\n",
        "b1 = np.array([3, 4, 3, 3, 4])\n",
        "print(np.isclose(a1, b1))"
      ],
      "execution_count": 107,
      "outputs": [
        {
          "output_type": "stream",
          "text": [
            "[False False  True False False]\n"
          ],
          "name": "stdout"
        }
      ]
    },
    {
      "cell_type": "code",
      "metadata": {
        "id": "IOcwlugItNRV"
      },
      "source": [
        ""
      ],
      "execution_count": null,
      "outputs": []
    }
  ]
}