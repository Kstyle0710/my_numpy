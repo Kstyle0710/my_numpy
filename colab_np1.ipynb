{
  "nbformat": 4,
  "nbformat_minor": 0,
  "metadata": {
    "colab": {
      "name": "colab_np1.ipynb",
      "provenance": [],
      "collapsed_sections": [],
      "toc_visible": true,
      "authorship_tag": "ABX9TyPDgqSBFWCQzNkVNtcMxnbl",
      "include_colab_link": true
    },
    "kernelspec": {
      "name": "python3",
      "display_name": "Python 3"
    }
  },
  "cells": [
    {
      "cell_type": "markdown",
      "metadata": {
        "id": "view-in-github",
        "colab_type": "text"
      },
      "source": [
        "<a href=\"https://colab.research.google.com/github/Kstyle0710/my_numpy/blob/master/colab_np1.ipynb\" target=\"_parent\"><img src=\"https://colab.research.google.com/assets/colab-badge.svg\" alt=\"Open In Colab\"/></a>"
      ]
    },
    {
      "cell_type": "code",
      "metadata": {
        "id": "I6eF-x18Uwlp"
      },
      "source": [
        "import numpy as np"
      ],
      "execution_count": 1,
      "outputs": []
    },
    {
      "cell_type": "markdown",
      "metadata": {
        "id": "OgsbcbkNWj7D"
      },
      "source": [
        "# 1. np array 생성"
      ]
    },
    {
      "cell_type": "code",
      "metadata": {
        "colab": {
          "base_uri": "https://localhost:8080/"
        },
        "id": "rzDa_u1tWuoj",
        "outputId": "0d2387f8-981a-4e54-e8dc-13cf6554ce1c"
      },
      "source": [
        "## 1차원 배열\n",
        "a1 = np.array([1, 2, 3, 4, 5])\n",
        "print(a1)\n",
        "print(type(a1))\n",
        "print(a1.shape)\n",
        "print(a1[0])"
      ],
      "execution_count": 18,
      "outputs": [
        {
          "output_type": "stream",
          "text": [
            "[1 2 3 4 5]\n",
            "<class 'numpy.ndarray'>\n",
            "(5,)\n",
            "1\n"
          ],
          "name": "stdout"
        }
      ]
    },
    {
      "cell_type": "code",
      "metadata": {
        "colab": {
          "base_uri": "https://localhost:8080/"
        },
        "id": "RmUB7uAqXA2t",
        "outputId": "399a3dd8-b7a8-4fc6-9952-949602716ecf"
      },
      "source": [
        "## 2차원 배열\n",
        "a2 = np.array([[1, 2, 3], [4, 5, 6]])\n",
        "print(a2)\n",
        "print(type(a2))\n",
        "print(a2.shape)\n",
        "print(a2[0][1])"
      ],
      "execution_count": 17,
      "outputs": [
        {
          "output_type": "stream",
          "text": [
            "[[1 2 3]\n",
            " [4 5 6]]\n",
            "<class 'numpy.ndarray'>\n",
            "(2, 3)\n",
            "2\n"
          ],
          "name": "stdout"
        }
      ]
    },
    {
      "cell_type": "code",
      "metadata": {
        "colab": {
          "base_uri": "https://localhost:8080/"
        },
        "id": "HxFnaMOVXJoN",
        "outputId": "36ec5e27-fedc-4f4d-f6f1-e580555cdeea"
      },
      "source": [
        "## 3차원 배열\n",
        "a3 = np.array([[[1, 2, 3], [4, 5, 6]], [[1, 2, 3], [4, 5, 6]], [[1, 2, 3], [4, 5, 6]]])\n",
        "print(a3)\n",
        "print(type(a3))\n",
        "print(a3.shape)\n",
        "print(a3[0][1])"
      ],
      "execution_count": 16,
      "outputs": [
        {
          "output_type": "stream",
          "text": [
            "[[[1 2 3]\n",
            "  [4 5 6]]\n",
            "\n",
            " [[1 2 3]\n",
            "  [4 5 6]]\n",
            "\n",
            " [[1 2 3]\n",
            "  [4 5 6]]]\n",
            "<class 'numpy.ndarray'>\n",
            "(3, 2, 3)\n",
            "[4 5 6]\n"
          ],
          "name": "stdout"
        }
      ]
    },
    {
      "cell_type": "markdown",
      "metadata": {
        "id": "5QkCGrTpVNFl"
      },
      "source": [
        "# 2. 배열 생성 및 초기화"
      ]
    },
    {
      "cell_type": "code",
      "metadata": {
        "colab": {
          "base_uri": "https://localhost:8080/"
        },
        "id": "-5Y6BcXkVQfI",
        "outputId": "6125c0bd-3889-40ef-b65f-d207198595e2"
      },
      "source": [
        "np.zeros(10)    # 모든 요소를 0으로 초기화"
      ],
      "execution_count": 2,
      "outputs": [
        {
          "output_type": "execute_result",
          "data": {
            "text/plain": [
              "array([0., 0., 0., 0., 0., 0., 0., 0., 0., 0.])"
            ]
          },
          "metadata": {
            "tags": []
          },
          "execution_count": 2
        }
      ]
    },
    {
      "cell_type": "code",
      "metadata": {
        "colab": {
          "base_uri": "https://localhost:8080/"
        },
        "id": "KrkDBpG5VVr5",
        "outputId": "a3fb7d1f-7b39-4e71-de80-0f76f7ce2491"
      },
      "source": [
        "np.ones((3, 3))     # 모든 요소를 1으로 초기화"
      ],
      "execution_count": 7,
      "outputs": [
        {
          "output_type": "execute_result",
          "data": {
            "text/plain": [
              "array([[1., 1., 1.],\n",
              "       [1., 1., 1.],\n",
              "       [1., 1., 1.]])"
            ]
          },
          "metadata": {
            "tags": []
          },
          "execution_count": 7
        }
      ]
    },
    {
      "cell_type": "code",
      "metadata": {
        "colab": {
          "base_uri": "https://localhost:8080/"
        },
        "id": "LIgzwZa9Vbqg",
        "outputId": "1b435aa9-a51d-482f-c725-6744e7db1cac"
      },
      "source": [
        "np.full((3,3), \"15\")   # 틀을 잡고 초기화 값 지정"
      ],
      "execution_count": 9,
      "outputs": [
        {
          "output_type": "execute_result",
          "data": {
            "text/plain": [
              "array([['15', '15', '15'],\n",
              "       ['15', '15', '15'],\n",
              "       ['15', '15', '15']], dtype='<U2')"
            ]
          },
          "metadata": {
            "tags": []
          },
          "execution_count": 9
        }
      ]
    },
    {
      "cell_type": "code",
      "metadata": {
        "colab": {
          "base_uri": "https://localhost:8080/"
        },
        "id": "MljtTJJvVepk",
        "outputId": "b8a43561-fd3b-43da-ba2b-15cb097f3567"
      },
      "source": [
        "np.eye(5)    # 정사각형인 단위행렬 생성"
      ],
      "execution_count": 10,
      "outputs": [
        {
          "output_type": "execute_result",
          "data": {
            "text/plain": [
              "array([[1., 0., 0., 0., 0.],\n",
              "       [0., 1., 0., 0., 0.],\n",
              "       [0., 0., 1., 0., 0.],\n",
              "       [0., 0., 0., 1., 0.],\n",
              "       [0., 0., 0., 0., 1.]])"
            ]
          },
          "metadata": {
            "tags": []
          },
          "execution_count": 10
        }
      ]
    },
    {
      "cell_type": "code",
      "metadata": {
        "colab": {
          "base_uri": "https://localhost:8080/"
        },
        "id": "G8mdERXdWG9T",
        "outputId": "691f7fb7-9839-489e-9b81-1b81b554add6"
      },
      "source": [
        "np.tri(5)    # 삼각행렬 생성"
      ],
      "execution_count": 11,
      "outputs": [
        {
          "output_type": "execute_result",
          "data": {
            "text/plain": [
              "array([[1., 0., 0., 0., 0.],\n",
              "       [1., 1., 0., 0., 0.],\n",
              "       [1., 1., 1., 0., 0.],\n",
              "       [1., 1., 1., 1., 0.],\n",
              "       [1., 1., 1., 1., 1.]])"
            ]
          },
          "metadata": {
            "tags": []
          },
          "execution_count": 11
        }
      ]
    },
    {
      "cell_type": "code",
      "metadata": {
        "id": "ikoya6QkWPX2"
      },
      "source": [
        "## 생성한 값으로 배열 생성"
      ],
      "execution_count": 24,
      "outputs": []
    },
    {
      "cell_type": "code",
      "metadata": {
        "colab": {
          "base_uri": "https://localhost:8080/"
        },
        "id": "1Z3oNgyqXxhO",
        "outputId": "957b54c1-6b48-4a05-fa92-77a1b7ab5136"
      },
      "source": [
        "np.arange(0, 30, 2)     ## 정수 범위로 배열 생성"
      ],
      "execution_count": 26,
      "outputs": [
        {
          "output_type": "execute_result",
          "data": {
            "text/plain": [
              "array([ 0,  2,  4,  6,  8, 10, 12, 14, 16, 18, 20, 22, 24, 26, 28])"
            ]
          },
          "metadata": {
            "tags": []
          },
          "execution_count": 26
        }
      ]
    },
    {
      "cell_type": "code",
      "metadata": {
        "colab": {
          "base_uri": "https://localhost:8080/"
        },
        "id": "wIEC7DpgYT9T",
        "outputId": "ffd384c8-1f1b-40b8-a99c-92ae8250c661"
      },
      "source": [
        "np.linspace(0, 1, 5)   # 범위 내에서 균등 간격으로 배열 생성"
      ],
      "execution_count": 27,
      "outputs": [
        {
          "output_type": "execute_result",
          "data": {
            "text/plain": [
              "array([0.  , 0.25, 0.5 , 0.75, 1.  ])"
            ]
          },
          "metadata": {
            "tags": []
          },
          "execution_count": 27
        }
      ]
    },
    {
      "cell_type": "code",
      "metadata": {
        "colab": {
          "base_uri": "https://localhost:8080/"
        },
        "id": "789g8dAnYoGJ",
        "outputId": "60c19398-2e1b-4c9a-8119-e0266321a629"
      },
      "source": [
        "np.logspace(0.1, 1, 20)    # 범위 내 균등 간격 배열 생성하되, 로그 스케일로 생성"
      ],
      "execution_count": 28,
      "outputs": [
        {
          "output_type": "execute_result",
          "data": {
            "text/plain": [
              "array([ 1.25892541,  1.40400425,  1.565802  ,  1.74624535,  1.94748304,\n",
              "        2.1719114 ,  2.42220294,  2.70133812,  3.0126409 ,  3.35981829,\n",
              "        3.74700446,  4.17881006,  4.66037703,  5.19743987,  5.79639395,\n",
              "        6.46437163,  7.2093272 ,  8.04013161,  8.9666781 , 10.        ])"
            ]
          },
          "metadata": {
            "tags": []
          },
          "execution_count": 28
        }
      ]
    },
    {
      "cell_type": "code",
      "metadata": {
        "colab": {
          "base_uri": "https://localhost:8080/"
        },
        "id": "Q_wSv5gGY8Zt",
        "outputId": "2cc16412-b281-4eff-e2d8-16cd54ed7a08"
      },
      "source": [
        "np.random.random((5, 5))   # 랜덤한 실수의 배열 생성.. 튜플로 형태만 지정"
      ],
      "execution_count": 29,
      "outputs": [
        {
          "output_type": "execute_result",
          "data": {
            "text/plain": [
              "array([[0.37943176, 0.4174978 , 0.15295474, 0.01560562, 0.57861972],\n",
              "       [0.4886627 , 0.44745752, 0.73017305, 0.61460916, 0.73531184],\n",
              "       [0.42641849, 0.39912793, 0.44779777, 0.23447379, 0.53557477],\n",
              "       [0.70312157, 0.90418084, 0.90915487, 0.02774321, 0.28085696],\n",
              "       [0.82443155, 0.25656289, 0.21955591, 0.35403267, 0.021143  ]])"
            ]
          },
          "metadata": {
            "tags": []
          },
          "execution_count": 29
        }
      ]
    },
    {
      "cell_type": "code",
      "metadata": {
        "colab": {
          "base_uri": "https://localhost:8080/"
        },
        "id": "F9ZJa-_nZQOV",
        "outputId": "4b3fc861-1d79-482f-f820-ac9c9d570f3c"
      },
      "source": [
        "np.random.randint(0, 10, (5, 5))   # 랜덤한 정수의 배열 생성.. 램덤 정수 범위 지정후 배열 형태 지정"
      ],
      "execution_count": 30,
      "outputs": [
        {
          "output_type": "execute_result",
          "data": {
            "text/plain": [
              "array([[8, 3, 3, 2, 4],\n",
              "       [3, 3, 6, 6, 0],\n",
              "       [9, 7, 9, 2, 1],\n",
              "       [4, 1, 3, 5, 9],\n",
              "       [8, 4, 9, 3, 0]])"
            ]
          },
          "metadata": {
            "tags": []
          },
          "execution_count": 30
        }
      ]
    },
    {
      "cell_type": "code",
      "metadata": {
        "colab": {
          "base_uri": "https://localhost:8080/"
        },
        "id": "8xDKGZlJZhAA",
        "outputId": "18b225f4-34a5-4865-a0db-275d3749efe1"
      },
      "source": [
        "np.random.normal(0, 1, (3, 3))   # 정규분포를 고려한 랜덤한 수의 배열 생성"
      ],
      "execution_count": 32,
      "outputs": [
        {
          "output_type": "execute_result",
          "data": {
            "text/plain": [
              "array([[-0.25937026,  1.2535737 , -0.46727206],\n",
              "       [-0.94067096, -0.2298729 , -2.20505874],\n",
              "       [ 0.57926241, -0.1409718 , -0.01338525]])"
            ]
          },
          "metadata": {
            "tags": []
          },
          "execution_count": 32
        }
      ]
    },
    {
      "cell_type": "code",
      "metadata": {
        "colab": {
          "base_uri": "https://localhost:8080/"
        },
        "id": "7hYCIqQ-Z5p4",
        "outputId": "54d8530d-660f-4a18-cf25-2a06314251de"
      },
      "source": [
        "np.random.rand(5, 5)    # 균등분포를 고려한 랜덤한 수의 배열 생성 (배열 형태만 지정)"
      ],
      "execution_count": 37,
      "outputs": [
        {
          "output_type": "execute_result",
          "data": {
            "text/plain": [
              "array([[0.72933367, 0.10812457, 0.05522505, 0.64455036, 0.54609067],\n",
              "       [0.26483211, 0.88253355, 0.01171481, 0.97449614, 0.26103662],\n",
              "       [0.65922853, 0.96861306, 0.9309611 , 0.41855515, 0.3170308 ],\n",
              "       [0.21709201, 0.67100211, 0.46888744, 0.81521596, 0.05432422],\n",
              "       [0.72533104, 0.40062041, 0.08182717, 0.38586392, 0.01318632]])"
            ]
          },
          "metadata": {
            "tags": []
          },
          "execution_count": 37
        }
      ]
    },
    {
      "cell_type": "code",
      "metadata": {
        "colab": {
          "base_uri": "https://localhost:8080/"
        },
        "id": "mAZyZlw4aGrp",
        "outputId": "d37d93fa-d0db-4cd7-c85c-b526ecbd4c26"
      },
      "source": [
        "np.random.randn(5, 5)   # 표준정규분포를 고려한 랜덤한 수의 배열 생성"
      ],
      "execution_count": 38,
      "outputs": [
        {
          "output_type": "execute_result",
          "data": {
            "text/plain": [
              "array([[ 5.04074856e-01,  3.53878091e-02,  6.77748219e-01,\n",
              "         2.62567405e-01,  7.40090648e-01],\n",
              "       [ 4.86856644e-01,  4.24260956e-01, -1.62917514e+00,\n",
              "        -6.33298397e-04,  2.15820689e-01],\n",
              "       [ 8.38442908e-01,  2.85536723e-02, -1.42493582e+00,\n",
              "         1.57019588e+00, -2.73626277e-01],\n",
              "       [ 4.12545881e-01,  1.25582481e+00, -9.54743991e-01,\n",
              "         1.10956564e+00, -9.68101497e-01],\n",
              "       [ 3.89617461e-01, -7.24097824e-01,  4.69791844e-01,\n",
              "         3.53987168e-01, -6.08422783e-01]])"
            ]
          },
          "metadata": {
            "tags": []
          },
          "execution_count": 38
        }
      ]
    },
    {
      "cell_type": "markdown",
      "metadata": {
        "id": "5DM85qzHbN3K"
      },
      "source": [
        "# 3. 표준 데이터 타입"
      ]
    },
    {
      "cell_type": "code",
      "metadata": {
        "colab": {
          "base_uri": "https://localhost:8080/"
        },
        "id": "unmWnDymbQ6r",
        "outputId": "660f4917-1a80-40c6-ac0f-e37081770b22"
      },
      "source": [
        "np.zeros(20, dtype=int)"
      ],
      "execution_count": 39,
      "outputs": [
        {
          "output_type": "execute_result",
          "data": {
            "text/plain": [
              "array([0, 0, 0, 0, 0, 0, 0, 0, 0, 0, 0, 0, 0, 0, 0, 0, 0, 0, 0, 0])"
            ]
          },
          "metadata": {
            "tags": []
          },
          "execution_count": 39
        }
      ]
    },
    {
      "cell_type": "code",
      "metadata": {
        "colab": {
          "base_uri": "https://localhost:8080/"
        },
        "id": "VFX_BUZebWHu",
        "outputId": "e2e51167-8096-4571-8cd5-468a49f17ed0"
      },
      "source": [
        "np.ones((3, 3), dtype=bool)"
      ],
      "execution_count": 40,
      "outputs": [
        {
          "output_type": "execute_result",
          "data": {
            "text/plain": [
              "array([[ True,  True,  True],\n",
              "       [ True,  True,  True],\n",
              "       [ True,  True,  True]])"
            ]
          },
          "metadata": {
            "tags": []
          },
          "execution_count": 40
        }
      ]
    },
    {
      "cell_type": "code",
      "metadata": {
        "colab": {
          "base_uri": "https://localhost:8080/"
        },
        "id": "Ae6Ywt48bbQ-",
        "outputId": "19f257dd-7813-4caa-e49e-a1fc88f630b9"
      },
      "source": [
        "np.full((3, 3), 1.25, dtype=float)"
      ],
      "execution_count": 42,
      "outputs": [
        {
          "output_type": "execute_result",
          "data": {
            "text/plain": [
              "array([[1.25, 1.25, 1.25],\n",
              "       [1.25, 1.25, 1.25],\n",
              "       [1.25, 1.25, 1.25]])"
            ]
          },
          "metadata": {
            "tags": []
          },
          "execution_count": 42
        }
      ]
    },
    {
      "cell_type": "markdown",
      "metadata": {
        "id": "GSzX1gzFbr-g"
      },
      "source": [
        "# 4. 날짜 및 시간 배열 생성"
      ]
    },
    {
      "cell_type": "code",
      "metadata": {
        "colab": {
          "base_uri": "https://localhost:8080/"
        },
        "id": "MNJb0pzxbx-a",
        "outputId": "229202ab-de46-4cce-dd33-945a0c951001"
      },
      "source": [
        "date = np.array('2020-12-07', dtype=np.datetime64)\n",
        "date"
      ],
      "execution_count": 44,
      "outputs": [
        {
          "output_type": "execute_result",
          "data": {
            "text/plain": [
              "array('2020-12-07', dtype='datetime64[D]')"
            ]
          },
          "metadata": {
            "tags": []
          },
          "execution_count": 44
        }
      ]
    },
    {
      "cell_type": "code",
      "metadata": {
        "colab": {
          "base_uri": "https://localhost:8080/"
        },
        "id": "4aZPDTOscHo-",
        "outputId": "214a1cea-4d12-482e-ffe5-dcfa5b3402e3"
      },
      "source": [
        "date + np.arange(12)"
      ],
      "execution_count": 45,
      "outputs": [
        {
          "output_type": "execute_result",
          "data": {
            "text/plain": [
              "array(['2020-12-07', '2020-12-08', '2020-12-09', '2020-12-10',\n",
              "       '2020-12-11', '2020-12-12', '2020-12-13', '2020-12-14',\n",
              "       '2020-12-15', '2020-12-16', '2020-12-17', '2020-12-18'],\n",
              "      dtype='datetime64[D]')"
            ]
          },
          "metadata": {
            "tags": []
          },
          "execution_count": 45
        }
      ]
    },
    {
      "cell_type": "code",
      "metadata": {
        "colab": {
          "base_uri": "https://localhost:8080/"
        },
        "id": "EFgh-r5ycZDI",
        "outputId": "6f6e3212-4f55-4e08-8ae9-219162f3cdc7"
      },
      "source": [
        "datetime = np.datetime64('2020-12-07 09:00')\n",
        "datetime"
      ],
      "execution_count": 46,
      "outputs": [
        {
          "output_type": "execute_result",
          "data": {
            "text/plain": [
              "numpy.datetime64('2020-12-07T09:00')"
            ]
          },
          "metadata": {
            "tags": []
          },
          "execution_count": 46
        }
      ]
    },
    {
      "cell_type": "code",
      "metadata": {
        "colab": {
          "base_uri": "https://localhost:8080/"
        },
        "id": "8gQA7rYccq0F",
        "outputId": "14ba2a21-fc26-48a8-b8b1-4d23fca50f74"
      },
      "source": [
        "datetime = np.datetime64('2020-12-07 09:00:12.455', 'ns')    # 나노초는 맨뒤에 'ns' 추가\n",
        "datetime"
      ],
      "execution_count": 50,
      "outputs": [
        {
          "output_type": "execute_result",
          "data": {
            "text/plain": [
              "numpy.datetime64('2020-12-07T09:00:12.455000000')"
            ]
          },
          "metadata": {
            "tags": []
          },
          "execution_count": 50
        }
      ]
    },
    {
      "cell_type": "markdown",
      "metadata": {
        "id": "hx1HEGmEdNJJ"
      },
      "source": [
        "# 5. 배열 속성 정보 조회"
      ]
    },
    {
      "cell_type": "code",
      "metadata": {
        "id": "PJIIHVbGc5vm"
      },
      "source": [
        "def array_info(a):\n",
        "  print(a)\n",
        "  print(\"ndim:\", a.ndim)\n",
        "  print(\"shape:\", a.shape)\n",
        "  print(\"dtype:\", a.dtype)\n",
        "  print(\"size:\", a.size)\n",
        "  print(\"itemsize:\", a.itemsize)    # 값 하나가 차지하는 바이트\n",
        "  print(\"nbytes:\", a.nbytes)\n",
        "  print(\"strides:\", a.strides)    # 다음 값 다음 차원으로 넘어가기 위해 필요한 바이트"
      ],
      "execution_count": 51,
      "outputs": []
    },
    {
      "cell_type": "code",
      "metadata": {
        "colab": {
          "base_uri": "https://localhost:8080/"
        },
        "id": "w4rxjAIgeHAf",
        "outputId": "c1379edd-07ff-4d54-eb81-52668b9c9802"
      },
      "source": [
        "array_info(a1)"
      ],
      "execution_count": 52,
      "outputs": [
        {
          "output_type": "stream",
          "text": [
            "[1 2 3 4 5]\n",
            "ndim: 1\n",
            "shape: (5,)\n",
            "dtype: int64\n",
            "size: 5\n",
            "itemsize: 8\n",
            "nbytes: 40\n",
            "strides: (8,)\n"
          ],
          "name": "stdout"
        }
      ]
    },
    {
      "cell_type": "code",
      "metadata": {
        "colab": {
          "base_uri": "https://localhost:8080/"
        },
        "id": "QNxCAtZYeJDc",
        "outputId": "b535927d-4c2f-488a-ff44-3595bd3f2fb2"
      },
      "source": [
        "array_info(a2)"
      ],
      "execution_count": 53,
      "outputs": [
        {
          "output_type": "stream",
          "text": [
            "[[1 2 3]\n",
            " [4 5 6]]\n",
            "ndim: 2\n",
            "shape: (2, 3)\n",
            "dtype: int64\n",
            "size: 6\n",
            "itemsize: 8\n",
            "nbytes: 48\n",
            "strides: (24, 8)\n"
          ],
          "name": "stdout"
        }
      ]
    },
    {
      "cell_type": "code",
      "metadata": {
        "colab": {
          "base_uri": "https://localhost:8080/"
        },
        "id": "PVHCSPcpeK_s",
        "outputId": "0cc0ac32-2345-4781-e68a-c703cda1f684"
      },
      "source": [
        "array_info(a3)"
      ],
      "execution_count": 54,
      "outputs": [
        {
          "output_type": "stream",
          "text": [
            "[[[1 2 3]\n",
            "  [4 5 6]]\n",
            "\n",
            " [[1 2 3]\n",
            "  [4 5 6]]\n",
            "\n",
            " [[1 2 3]\n",
            "  [4 5 6]]]\n",
            "ndim: 3\n",
            "shape: (3, 2, 3)\n",
            "dtype: int64\n",
            "size: 18\n",
            "itemsize: 8\n",
            "nbytes: 144\n",
            "strides: (48, 24, 8)\n"
          ],
          "name": "stdout"
        }
      ]
    },
    {
      "cell_type": "markdown",
      "metadata": {
        "id": "mtZR_prCe-Md"
      },
      "source": [
        "# 6. 인덱싱"
      ]
    },
    {
      "cell_type": "code",
      "metadata": {
        "colab": {
          "base_uri": "https://localhost:8080/"
        },
        "id": "QQlLOND5eqHB",
        "outputId": "0527cc44-a364-44c4-f29c-2c622051c6b0"
      },
      "source": [
        "print(a1)\n",
        "print(a1[0])\n",
        "print(a1[2])\n",
        "print(a1[-1])\n",
        "print(a1[-3])"
      ],
      "execution_count": 55,
      "outputs": [
        {
          "output_type": "stream",
          "text": [
            "[1 2 3 4 5]\n",
            "1\n",
            "3\n",
            "5\n",
            "3\n"
          ],
          "name": "stdout"
        }
      ]
    },
    {
      "cell_type": "code",
      "metadata": {
        "colab": {
          "base_uri": "https://localhost:8080/"
        },
        "id": "-Mc6MKUrfUsZ",
        "outputId": "205c295a-f8ad-400f-fbab-b511d151ccd5"
      },
      "source": [
        "print(a2)\n",
        "print(a2[0, 1])\n",
        "print(a2[1, 1])\n",
        "print(a2[-1, 2])\n",
        "print(a2[1][-1])"
      ],
      "execution_count": 62,
      "outputs": [
        {
          "output_type": "stream",
          "text": [
            "[[1 2 3]\n",
            " [4 5 6]]\n",
            "2\n",
            "5\n",
            "6\n",
            "6\n"
          ],
          "name": "stdout"
        }
      ]
    },
    {
      "cell_type": "markdown",
      "metadata": {
        "id": "jvwBBbvpgY_P"
      },
      "source": [
        "# 7. 슬라이싱"
      ]
    },
    {
      "cell_type": "markdown",
      "metadata": {
        "id": "tsmpkoc_giE2"
      },
      "source": [
        "슬라이싱 구문 : a[ start : stop : step] <br>\n",
        "기본값 : start=0, stop=ndim, step=1"
      ]
    },
    {
      "cell_type": "code",
      "metadata": {
        "colab": {
          "base_uri": "https://localhost:8080/"
        },
        "id": "RHrF9coVfrr-",
        "outputId": "83f828c9-bb4c-4500-9a31-f74dd3b14a0f"
      },
      "source": [
        "print(a1)\n",
        "print(a1[0:2])\n",
        "print(a1[0:])\n",
        "print(a1[:1])\n",
        "print(a1[:2])\n",
        "print(a1[::2])\n",
        "print(a1[::-1])"
      ],
      "execution_count": 66,
      "outputs": [
        {
          "output_type": "stream",
          "text": [
            "[1 2 3 4 5]\n",
            "[1 2]\n",
            "[1 2 3 4 5]\n",
            "[1]\n",
            "[1 2]\n",
            "[1 3 5]\n",
            "[5 4 3 2 1]\n"
          ],
          "name": "stdout"
        }
      ]
    },
    {
      "cell_type": "code",
      "metadata": {
        "colab": {
          "base_uri": "https://localhost:8080/"
        },
        "id": "Wd9Eg1XYhPdo",
        "outputId": "12d07f86-2a30-462d-fd17-87d928fc180f"
      },
      "source": [
        "## 블리언 인덱싱\n",
        "print(a1)\n",
        "bi = [False, True, True, False, False]\n",
        "print(a1[bi])     # 블리언 인덱싱이 True인 것만 출력"
      ],
      "execution_count": 68,
      "outputs": [
        {
          "output_type": "stream",
          "text": [
            "[1 2 3 4 5]\n",
            "[2 3]\n"
          ],
          "name": "stdout"
        }
      ]
    },
    {
      "cell_type": "code",
      "metadata": {
        "colab": {
          "base_uri": "https://localhost:8080/"
        },
        "id": "7RVkDND9iUDg",
        "outputId": "04859a1e-9866-4bf3-d7cd-2c2a41d6ce7d"
      },
      "source": [
        "print(a2)\n",
        "bi = np.random.randint(0, 2, (2, 3), dtype=bool)\n",
        "print(bi)\n",
        "print(a2[bi])"
      ],
      "execution_count": 70,
      "outputs": [
        {
          "output_type": "stream",
          "text": [
            "[[1 2 3]\n",
            " [4 5 6]]\n",
            "[[ True  True False]\n",
            " [ True False False]]\n",
            "[1 2 4]\n"
          ],
          "name": "stdout"
        }
      ]
    },
    {
      "cell_type": "code",
      "metadata": {
        "colab": {
          "base_uri": "https://localhost:8080/"
        },
        "id": "HOYEnkg_iylo",
        "outputId": "c798cdef-9484-41d9-bea4-e535152c103e"
      },
      "source": [
        "## fancy indexing\n",
        "print(a1)\n",
        "print([a1[0], a1[2]])\n",
        "idx = [0, 2]\n",
        "print(a1[idx])"
      ],
      "execution_count": 72,
      "outputs": [
        {
          "output_type": "stream",
          "text": [
            "[1 2 3 4 5]\n",
            "[1, 3]\n",
            "[1 3]\n"
          ],
          "name": "stdout"
        }
      ]
    },
    {
      "cell_type": "code",
      "metadata": {
        "colab": {
          "base_uri": "https://localhost:8080/"
        },
        "id": "-ntLi-C9jR4-",
        "outputId": "b3506212-773d-4017-c379-9480938da2b8"
      },
      "source": [
        "print(a1)                   # 1차원 배열에\n",
        "print([a1[0], a1[2]])\n",
        "idx = np.array([[0, 1], [2, 0]])   # 2차원 인덱싱을 적용하는 경우\n",
        "print(a1[idx])                 # 2차원 배열의 형태로 출력된다."
      ],
      "execution_count": 74,
      "outputs": [
        {
          "output_type": "stream",
          "text": [
            "[1 2 3 4 5]\n",
            "[1, 3]\n",
            "[[1 2]\n",
            " [3 1]]\n"
          ],
          "name": "stdout"
        }
      ]
    },
    {
      "cell_type": "code",
      "metadata": {
        "colab": {
          "base_uri": "https://localhost:8080/"
        },
        "id": "KLsj3ju8jx5k",
        "outputId": "cfe69f2f-575d-476e-b2ba-19e3c4e0dee5"
      },
      "source": [
        "print(a2)\n",
        "row = np.array([0,1])\n",
        "col = np.array([1,2])\n",
        "print(a2[row, col])"
      ],
      "execution_count": 77,
      "outputs": [
        {
          "output_type": "stream",
          "text": [
            "[[1 2 3]\n",
            " [4 5 6]]\n",
            "[2 6]\n"
          ],
          "name": "stdout"
        }
      ]
    },
    {
      "cell_type": "markdown",
      "metadata": {
        "id": "EU1cinuzlZw8"
      },
      "source": [
        "# 8. 배열 값 삽입/수정/삭제/복사"
      ]
    },
    {
      "cell_type": "code",
      "metadata": {
        "id": "wupq_rhsk0Cv"
      },
      "source": [
        ""
      ],
      "execution_count": null,
      "outputs": []
    }
  ]
}